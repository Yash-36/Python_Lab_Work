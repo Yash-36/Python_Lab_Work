{
 "cells": [
  {
   "cell_type": "markdown",
   "metadata": {},
   "source": [
    "<a href='https://www.darshan.ac.in/'> <img src='https://www.darshan.ac.in/Content/media/DU_Logo.svg' width=\"250\" height=\"300\"/></a>\n",
    "<pre>\n",
    "<center><b><h1>Python Programming - 2101CS405</b></center>\n",
    "<center><b><h1>Lab - 1</b></center>    \n",
    "<pre>"
   ]
  },
  {
   "cell_type": "code",
   "execution_count": null,
   "metadata": {},
   "outputs": [],
   "source": [
    "Name :- Chandra Yash\n",
    "Enrollment :- 23010101609"
   ]
  },
  {
   "cell_type": "markdown",
   "metadata": {},
   "source": [
    "### 01) WAP to print “Hello World”"
   ]
  },
  {
   "cell_type": "code",
   "execution_count": null,
   "metadata": {},
   "outputs": [],
   "source": [
    "print(\"Hello world\")"
   ]
  },
  {
   "cell_type": "markdown",
   "metadata": {},
   "source": [
    "### 02) WAP to print your address i) using single print ii) using multiple print"
   ]
  },
  {
   "cell_type": "markdown",
   "metadata": {},
   "source": []
  },
  {
   "cell_type": "code",
   "execution_count": null,
   "metadata": {},
   "outputs": [],
   "source": [
    "print(\"Rajkot Highway\")\n",
    "\n",
    "print(\"rajkot\")\n",
    "print(\"highway\")"
   ]
  },
  {
   "cell_type": "markdown",
   "metadata": {},
   "source": [
    "### 03) WAP to print addition of 2 numbers (without input function)"
   ]
  },
  {
   "cell_type": "code",
   "execution_count": null,
   "metadata": {},
   "outputs": [],
   "source": [
    "a = 10\n",
    "b = 20\n",
    "c = a + b\n",
    "print(\"The addition is :\",c)"
   ]
  },
  {
   "cell_type": "markdown",
   "metadata": {},
   "source": [
    "### 04) WAP to calculate and print average of 2 numbers (without input function)"
   ]
  },
  {
   "cell_type": "code",
   "execution_count": null,
   "metadata": {},
   "outputs": [],
   "source": [
    "a = 10\n",
    "b = 20\n",
    "sum = a + b\n",
    "avg = sum / 2\n",
    "print(\"your average is :\",avg)"
   ]
  },
  {
   "cell_type": "markdown",
   "metadata": {},
   "source": [
    "### 05) WAP to add two number entered by user."
   ]
  },
  {
   "cell_type": "code",
   "execution_count": null,
   "metadata": {},
   "outputs": [],
   "source": [
    "a = int(input(\"Enter first number : \"))\n",
    "b = int(input(\"Enter second number : \"))\n",
    "sum = a + b\n",
    "print(\"The addition is :\",sum)"
   ]
  },
  {
   "cell_type": "markdown",
   "metadata": {},
   "source": [
    "### 06) WAP to calculate simple interest."
   ]
  },
  {
   "cell_type": "code",
   "execution_count": null,
   "metadata": {},
   "outputs": [],
   "source": [
    "p = 8\n",
    "t = 6\n",
    "r = 8\n",
    "\n",
    "si = (p*t*r)/100\n",
    "\n",
    "print(\"The Simple Interest is :\", si)"
   ]
  },
  {
   "cell_type": "markdown",
   "metadata": {},
   "source": [
    "### 07) WAP Calculate Area and Circumfrence of Circle"
   ]
  },
  {
   "cell_type": "markdown",
   "metadata": {},
   "source": []
  },
  {
   "cell_type": "code",
   "execution_count": null,
   "metadata": {},
   "outputs": [],
   "source": [
    "radius = int(input('Enter the radius of a circle: '))\n",
    "pi = 3.14\n",
    "area = pi * radius * radius\n",
    "circumference = 2 * pi * radius\n",
    "\n",
    "print(\" Area of a circle:\" ,area)\n",
    "print(\" Circumference of a circle: %.2f\" %circumference)"
   ]
  },
  {
   "cell_type": "markdown",
   "metadata": {},
   "source": [
    "### 08) WAP to print Multiplication table of given number without using loops."
   ]
  },
  {
   "cell_type": "markdown",
   "metadata": {},
   "source": []
  },
  {
   "cell_type": "code",
   "execution_count": null,
   "metadata": {},
   "outputs": [],
   "source": [
    "num = int(input('Enter the Number : '));\n",
    "\n",
    "print(num * 1);\n",
    "print(num * 2);\n",
    "print(num * 3);\n",
    "print(num * 4);\n",
    "print(num * 5);\n",
    "print(num * 6);\n",
    "print(num * 7);\n",
    "print(num * 8);\n",
    "print(num * 9);\n",
    "print(num * 10);"
   ]
  },
  {
   "cell_type": "markdown",
   "metadata": {},
   "source": [
    "### 09) WAP to calculate Area of Triangle (hint: a = h * b * 0.5)"
   ]
  },
  {
   "cell_type": "code",
   "execution_count": null,
   "metadata": {},
   "outputs": [],
   "source": [
    "b = float(input('Enter base of a triangle: '))\n",
    "h = float(input('Enter height of a triangle: '))\n",
    "area = (b * h * 0.5)\n",
    "print('The area of the triangle is %0.2f' % area)"
   ]
  },
  {
   "cell_type": "markdown",
   "metadata": {},
   "source": [
    "### 10) WAP to convert degree to Fahrenheit and vice versa."
   ]
  },
  {
   "cell_type": "code",
   "execution_count": null,
   "metadata": {},
   "outputs": [],
   "source": [
    "celsius = int(input(\"Enter the Temperature in Celsius :\\n\"))\n",
    "fahrenheit = (1.8 * celsius) + 32\n",
    "print(\"Temperature in Fahrenheit :\", fahrenheit)"
   ]
  },
  {
   "cell_type": "markdown",
   "metadata": {},
   "source": [
    "### 11) WAP to calculate total marks and Percentage."
   ]
  },
  {
   "cell_type": "code",
   "execution_count": null,
   "metadata": {},
   "outputs": [],
   "source": [
    "print(\"Enter Marks Obtained in 5 Subjects: \")\n",
    "One = int(input())\n",
    "Two = int(input())\n",
    "Three = int(input())\n",
    "Four = int(input())\n",
    "Five = int(input())\n",
    "\n",
    "sum = One+Two+Three+Four+Five\n",
    "\n",
    "avg = sum/5\n",
    "\n",
    "perc = (sum/500)*100\n",
    "\n",
    "print(\"Average Mark :\",avg)\n",
    "print(\"Percentage Mark :\",perc)"
   ]
  },
  {
   "cell_type": "markdown",
   "metadata": {},
   "source": [
    "### 12) Compute distance between two points taking input from the user (Pythagorean Theorem)."
   ]
  },
  {
   "cell_type": "code",
   "execution_count": null,
   "metadata": {},
   "outputs": [],
   "source": [
    "x1 = float(input('Enter x1: '))\n",
    "y1 = float(input('Enter y1: '))\n",
    "x2 = float(input('Enter x2: '))\n",
    "y2 = float(input('Enter y2: '))\n",
    "\n",
    "d = ( (x2-x1)**2 + (y2-y1)**2 ) ** 0.5\n",
    "\n",
    "print('Distance = %f' %(d))"
   ]
  },
  {
   "cell_type": "markdown",
   "metadata": {},
   "source": [
    "### 13) WAP to convert seconds into hours, minutes & seconds and print in HH:MM:SS\n",
    "[e.g. 10000 seconds mean 2:46:40 (2 Hours, 46 Minutes, 40Seconds)]"
   ]
  },
  {
   "cell_type": "code",
   "execution_count": null,
   "metadata": {},
   "outputs": [],
   "source": [
    "from datetime import timedelta\n",
    "\n",
    "sec = 10000\n",
    "print('Time in Seconds:', sec)\n",
    "\n",
    "td = timedelta(seconds=sec)\n",
    "print('Time in hh:mm:ss:', td)"
   ]
  },
  {
   "cell_type": "markdown",
   "metadata": {},
   "source": [
    "### 14) WAP to enter distance into kilometer and convert it into meter, feet,inches, and centimeter"
   ]
  },
  {
   "cell_type": "code",
   "execution_count": null,
   "metadata": {},
   "outputs": [],
   "source": [
    "km = int (input(\"Enter the distance between two cities in kilometers: \"))\n",
    "mtr = (km * 1000)\n",
    "cent = (km * 100000)\n",
    "print(\"Distance between two cities in meters is: \",mtr)\n",
    "print(\"Distance between two cities in centimeters is: \",cent)"
   ]
  }
 ],
 "metadata": {
  "kernelspec": {
   "display_name": "Python 3 (ipykernel)",
   "language": "python",
   "name": "python3"
  },
  "language_info": {
   "codemirror_mode": {
    "name": "ipython",
    "version": 3
   },
   "file_extension": ".py",
   "mimetype": "text/x-python",
   "name": "python",
   "nbconvert_exporter": "python",
   "pygments_lexer": "ipython3",
   "version": "3.10.8"
  },
  "vscode": {
   "interpreter": {
    "hash": "31f2aee4e71d21fbe5cf8b01ff0e069b9275f58929596ceb00d14d90e3e16cd6"
   }
  }
 },
 "nbformat": 4,
 "nbformat_minor": 4
}
