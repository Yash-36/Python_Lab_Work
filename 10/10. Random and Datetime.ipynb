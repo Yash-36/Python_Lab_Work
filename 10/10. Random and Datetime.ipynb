{
 "cells": [
  {
   "attachments": {},
   "cell_type": "markdown",
   "metadata": {},
   "source": [
    "<a href='https://www.darshan.ac.in/'> <img src='https://www.darshan.ac.in/Content/media/DU_Logo.svg' width=\"250\" height=\"300\"/></a>\n",
    "<pre>\n",
    "<center><b><h1>Python Programming - 2101CS405</b></center>\n",
    "<center><b><h1>Lab - 10</b></center>    \n",
    "<pre>"
   ]
  },
  {
   "cell_type": "markdown",
   "metadata": {},
   "source": [
    "# Modules"
   ]
  },
  {
   "cell_type": "markdown",
   "metadata": {},
   "source": [
    "# A"
   ]
  },
  {
   "cell_type": "markdown",
   "metadata": {},
   "source": []
  },
  {
   "cell_type": "markdown",
   "metadata": {},
   "source": [
    "### 01) WAP to create Calculator module which defines functions like add, sub,mul and div. create another file that uses the Calculator module."
   ]
  },
  {
   "cell_type": "code",
   "execution_count": 1,
   "metadata": {},
   "outputs": [
    {
     "name": "stdout",
     "output_type": "stream",
     "text": [
      "5\n",
      "2\n",
      "6\n",
      "0.6666666666666666\n"
     ]
    }
   ],
   "source": [
    "import calculator\n",
    "print(calculator.add(2,3))\n",
    "print(calculator.subs(5,3))\n",
    "print(calculator.mult(2,3))\n",
    "print(calculator.div(2,3))"
   ]
  },
  {
   "cell_type": "markdown",
   "metadata": {},
   "source": [
    "### 02) WAP to Pick a random character from a given String."
   ]
  },
  {
   "cell_type": "code",
   "execution_count": 1,
   "metadata": {},
   "outputs": [
    {
     "name": "stdout",
     "output_type": "stream",
     "text": [
      "a\n"
     ]
    }
   ],
   "source": [
    "import random\n",
    "\n",
    "str = input(\"Enter a string : \")\n",
    "l = list(str)\n",
    "print(random.choice(l))"
   ]
  },
  {
   "cell_type": "markdown",
   "metadata": {},
   "source": [
    "### 03) WAP to Pick a random element from a given list."
   ]
  },
  {
   "cell_type": "code",
   "execution_count": 4,
   "metadata": {},
   "outputs": [
    {
     "name": "stdout",
     "output_type": "stream",
     "text": [
      "23\n"
     ]
    }
   ],
   "source": [
    "n = int(input(\"Enter n : \"))\n",
    "list = []\n",
    "for i in range(1,n+1):\n",
    "    a = int(input(\"Enter element : \"))\n",
    "    list.append(a)\n",
    "print(random.choice(list))"
   ]
  },
  {
   "cell_type": "markdown",
   "metadata": {},
   "source": [
    "### 04) WAP to demonstrate the use of the math module."
   ]
  },
  {
   "cell_type": "code",
   "execution_count": 5,
   "metadata": {},
   "outputs": [
    {
     "name": "stdout",
     "output_type": "stream",
     "text": [
      "512.0\n",
      "2.8284271247461903\n",
      "5\n",
      "7\n",
      "1\n",
      "24\n",
      "40320\n",
      "0.1411200080598672\n",
      "-0.14550003380861354\n",
      "-0.1425465430742778\n"
     ]
    }
   ],
   "source": [
    "import math \n",
    "x = int(input(\"Enter x : \"))\n",
    "y = int(input(\"Enter y : \"))\n",
    "print(math.pow(x,y))\n",
    "print(math.sqrt(x))\n",
    "print(math.floor(5.6))\n",
    "print(math.ceil(6.3))\n",
    "print(math.gcd(x,y))\n",
    "print(math.lcm(x,y))\n",
    "print(math.factorial(x))\n",
    "print(math.sin(y))\n",
    "print(math.cos(x))\n",
    "print(math.tan(y))"
   ]
  },
  {
   "cell_type": "markdown",
   "metadata": {},
   "source": [
    "### 05) WAP to demonstrate the use of date time module."
   ]
  },
  {
   "cell_type": "code",
   "execution_count": 6,
   "metadata": {},
   "outputs": [
    {
     "name": "stdout",
     "output_type": "stream",
     "text": [
      "2024-04-05\n",
      "2010-02-03\n",
      "2024\n",
      "4\n",
      "5\n",
      "2024-04-05 21:47:39.437822\n",
      "21\n",
      "47\n",
      "39\n",
      "10:05:02.000006\n"
     ]
    }
   ],
   "source": [
    "import datetime\n",
    "print(datetime.date.today())\n",
    "print(datetime.date(2010,2,3))\n",
    "print(datetime.date.today().year)\n",
    "print(datetime.date.today().month)\n",
    "print(datetime.date.today().day)\n",
    "print(datetime.datetime.now())\n",
    "print(datetime.datetime.now().hour)\n",
    "print(datetime.datetime.now().minute)\n",
    "print(datetime.datetime.now().second)\n",
    "print(datetime.time(10,5,2,6))"
   ]
  },
  {
   "cell_type": "markdown",
   "metadata": {},
   "source": [
    "# B"
   ]
  },
  {
   "cell_type": "markdown",
   "metadata": {},
   "source": [
    "### 01) WAP to Roll dice in such a way that every time you get the same number."
   ]
  },
  {
   "cell_type": "code",
   "execution_count": 9,
   "metadata": {},
   "outputs": [
    {
     "data": {
      "text/plain": [
       "2"
      ]
     },
     "execution_count": 9,
     "metadata": {},
     "output_type": "execute_result"
    }
   ],
   "source": [
    "# import random\n",
    "# random.seed(34245324)\n",
    "# list=[random.randint(1,6) for i in range(1,11)]\n",
    "# print(list)\n",
    "\n",
    "list = [1,2,3,4,5,6]\n",
    "n = int(input(\"Enter number which you want on dice : \"))\n",
    "random.seed(n)\n",
    "random.choice(list)"
   ]
  },
  {
   "cell_type": "markdown",
   "metadata": {},
   "source": [
    "### 02) WAP to generate 3 random integers between 100 and 999 which is divisible by 5."
   ]
  },
  {
   "cell_type": "code",
   "execution_count": 17,
   "metadata": {},
   "outputs": [
    {
     "name": "stdout",
     "output_type": "stream",
     "text": [
      "[130, 920, 430]\n"
     ]
    }
   ],
   "source": [
    "import random\n",
    "list=[]\n",
    "while len(list)<3:\n",
    "    list.append(random.randrange(100,1000,5))\n",
    "print(list)"
   ]
  },
  {
   "cell_type": "markdown",
   "metadata": {},
   "source": [
    "### 03) WAP to generate 100 random lottery tickets and pick two lucky tickets from it as a winner."
   ]
  },
  {
   "cell_type": "code",
   "execution_count": 19,
   "metadata": {},
   "outputs": [
    {
     "name": "stdout",
     "output_type": "stream",
     "text": [
      "{650653, 599215}\n"
     ]
    }
   ],
   "source": [
    "import random\n",
    "list=[random.randint(1,1000000) for i in range(1,100)]\n",
    "print({random.choice(list) for i in range(1,3)})"
   ]
  },
  {
   "cell_type": "markdown",
   "metadata": {},
   "source": [
    "### 04) WAP to print current date and time in Python."
   ]
  },
  {
   "cell_type": "code",
   "execution_count": 20,
   "metadata": {},
   "outputs": [
    {
     "name": "stdout",
     "output_type": "stream",
     "text": [
      "Today's date is 2024-04-05 21:50:44.020426\n"
     ]
    }
   ],
   "source": [
    "from datetime import datetime\n",
    "print(f\"Today's date is {datetime.now()}\")"
   ]
  },
  {
   "cell_type": "markdown",
   "metadata": {},
   "source": [
    "### 05) Subtract a week (7 days) from a given date in Python."
   ]
  },
  {
   "cell_type": "code",
   "execution_count": 21,
   "metadata": {},
   "outputs": [
    {
     "name": "stdout",
     "output_type": "stream",
     "text": [
      "2024-03-29 21:51:14.775887\n"
     ]
    }
   ],
   "source": [
    "from datetime import datetime, timedelta\n",
    "subtracted_date = datetime.now() - timedelta(weeks = 1)  # Subtracting days with the timedelta function\n",
    "print(subtracted_date)                             # Print date object with subtracted weeks"
   ]
  },
  {
   "cell_type": "markdown",
   "metadata": {},
   "source": [
    "### 06) WAP to Calculate number of days between two given dates."
   ]
  },
  {
   "cell_type": "code",
   "execution_count": 23,
   "metadata": {},
   "outputs": [
    {
     "name": "stdout",
     "output_type": "stream",
     "text": [
      "365\n"
     ]
    }
   ],
   "source": [
    "from datetime import date\n",
    "d0 = date(2023, 1, 20)\n",
    "d1 = date(2024, 1, 20)\n",
    "sub_dates = d0 - d1 if d0>d1 else d1-d0\n",
    "print(sub_dates.days)"
   ]
  },
  {
   "cell_type": "markdown",
   "metadata": {},
   "source": [
    "### 07) WAP to Find the day of the week of a given date."
   ]
  },
  {
   "cell_type": "code",
   "execution_count": 26,
   "metadata": {},
   "outputs": [
    {
     "name": "stdout",
     "output_type": "stream",
     "text": [
      "5\n",
      "Friday\n"
     ]
    }
   ],
   "source": [
    "print(datetime.now().date().strftime('%w'))\n",
    "print(datetime.now().date().strftime('%A'))"
   ]
  }
 ],
 "metadata": {
  "kernelspec": {
   "display_name": "Python 3",
   "language": "python",
   "name": "python3"
  },
  "language_info": {
   "codemirror_mode": {
    "name": "ipython",
    "version": 3
   },
   "file_extension": ".py",
   "mimetype": "text/x-python",
   "name": "python",
   "nbconvert_exporter": "python",
   "pygments_lexer": "ipython3",
   "version": "3.10.8"
  },
  "vscode": {
   "interpreter": {
    "hash": "0d5eec78a37ea6fc2b3284bacdb9ef8ae50d1b9f72a0fc78f32f14c7c428fbcf"
   }
  }
 },
 "nbformat": 4,
 "nbformat_minor": 4
}
