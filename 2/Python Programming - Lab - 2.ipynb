{
 "cells": [
  {
   "cell_type": "markdown",
   "metadata": {},
   "source": [
    "\n",
    "<a href='https://www.darshan.ac.in/'> <img src='https://www.darshan.ac.in/Content/media/DU_Logo.svg' width=\"250\" height=\"300\"/></a>\n",
    "<pre>\n",
    "<center><b><h1>Python Programming - 2101CS405</b></center>\n",
    "<center><b><h1>Lab - 2</b></center>    \n",
    "<pre>"
   ]
  },
  {
   "cell_type": "code",
   "execution_count": null,
   "metadata": {},
   "outputs": [],
   "source": [
    "Name :- Chandra Yash\n",
    "Enrollment :- 23010101609"
   ]
  },
  {
   "cell_type": "markdown",
   "metadata": {},
   "source": [
    "# if..else.."
   ]
  },
  {
   "cell_type": "markdown",
   "metadata": {},
   "source": [
    "### 01) WAP to check whether the given number is positive or negative."
   ]
  },
  {
   "cell_type": "code",
   "execution_count": 2,
   "metadata": {},
   "outputs": [
    {
     "name": "stdout",
     "output_type": "stream",
     "text": [
      "Enter a number: -1\n",
      "Negative number\n"
     ]
    }
   ],
   "source": [
    "num = float(input(\"Enter a number: \"))\n",
    "if num > 0:\n",
    "   print(\"Positive number\")\n",
    "elif num == 0:\n",
    "   print(\"Zero\")\n",
    "else:\n",
    "   print(\"Negative number\")"
   ]
  },
  {
   "cell_type": "markdown",
   "metadata": {},
   "source": [
    "### 02) WAP to check whether the given number is odd or even"
   ]
  },
  {
   "cell_type": "code",
   "execution_count": 5,
   "metadata": {},
   "outputs": [
    {
     "name": "stdout",
     "output_type": "stream",
     "text": [
      "Enter a number: 0\n",
      "number is Even\n"
     ]
    }
   ],
   "source": [
    "num = float(input(\"Enter a number: \"))\n",
    "if num % 2 == 0:\n",
    "   print(\"number is Even\")\n",
    "else :\n",
    "    print(\"number is odd\")"
   ]
  },
  {
   "cell_type": "markdown",
   "metadata": {},
   "source": [
    "### 03) WAP to find out largest number from given two numbers using simple if and ternary operator."
   ]
  },
  {
   "cell_type": "code",
   "execution_count": 8,
   "metadata": {},
   "outputs": [
    {
     "name": "stdout",
     "output_type": "stream",
     "text": [
      "Enter a number: 24\n",
      "Enter a number: 12\n",
      "a is largest\n"
     ]
    }
   ],
   "source": [
    "a = float(input(\"Enter a number: \"))\n",
    "b = float(input(\"Enter a number: \"))\n",
    "\n",
    "print(\"a is largest\") if(a>b) else print(\"b is largest\")  "
   ]
  },
  {
   "cell_type": "markdown",
   "metadata": {},
   "source": [
    "### 04) WAP to find out largest number from given three numbers."
   ]
  },
  {
   "cell_type": "code",
   "execution_count": 12,
   "metadata": {},
   "outputs": [
    {
     "name": "stdout",
     "output_type": "stream",
     "text": [
      "Enter a number: 20\n",
      "Enter b number: 10\n",
      "Enter c number: 20\n",
      "a is largest\n"
     ]
    }
   ],
   "source": [
    "a = float(input(\"Enter a number: \"))\n",
    "b = float(input(\"Enter b number: \"))\n",
    "c = float(input(\"Enter c number: \"))\n",
    "\n",
    "if a>b :\n",
    "    print(\"a is largest\")\n",
    "elif b>c :\n",
    "    print(\"b is largest\")\n",
    "elif c>a :\n",
    "    print(\"c is largest\")\n",
    "else :\n",
    "    print(\"Values are equal\")"
   ]
  },
  {
   "cell_type": "markdown",
   "metadata": {},
   "source": [
    "### 05) WAP to check whether the given year is leap year or not.\n",
    "[If a year can be divisible by 4 but not divisible by 100 then it is leap year but if it is divisible by 400 then it is leap year]"
   ]
  },
  {
   "cell_type": "code",
   "execution_count": null,
   "metadata": {
    "collapsed": true
   },
   "outputs": [],
   "source": [
    "year = int(input(\"Enter the year : \"))\n",
    "if year%4 == 0 and year%100!=0 :\n",
    "    print(\"It is a leap year\")\n",
    "elif year%400 == 0 :\n",
    "    print(\"It is a leap year\")\n",
    "else :\n",
    "    print(\"It is a not leap year\")"
   ]
  },
  {
   "cell_type": "markdown",
   "metadata": {},
   "source": [
    "### 06) WAP in python to display the name of the day according to the number given by the user"
   ]
  },
  {
   "cell_type": "code",
   "execution_count": 18,
   "metadata": {},
   "outputs": [
    {
     "name": "stdout",
     "output_type": "stream",
     "text": [
      "Enter a number from 1 to 7: 3\n",
      "3 is Tuesday\n"
     ]
    }
   ],
   "source": [
    "day = int(input(\"Enter a number from 1 to 7: \"))\n",
    "if day == 1:\n",
    "    print(day, \"is Sunday\")\n",
    "elif day == 2:\n",
    "    print(day, \"is Monday\")\n",
    "elif day == 3:\n",
    "    print(day, \"is Tuesday\")\n",
    "elif day == 4:\n",
    "    print(day, \"is Wednesday\")\n",
    "elif day == 5:\n",
    "    print(day, \"is Thursday\")\n",
    "elif day == 6:\n",
    "    print(day, \"is Friday\")\n",
    "elif day == 7:\n",
    "    print(day, \"is Saturday\")\n",
    "else:\n",
    "    print(\"Wrong input! Please enter a number from 1 to 7.\")"
   ]
  },
  {
   "cell_type": "markdown",
   "metadata": {},
   "source": [
    "### 07) WAP to implement simple calculator which performs (add,sub,mul,div) of two no. based on user input."
   ]
  },
  {
   "cell_type": "code",
   "execution_count": 23,
   "metadata": {},
   "outputs": [
    {
     "name": "stdout",
     "output_type": "stream",
     "text": [
      "Enter a number :: 2\n",
      "Enter b number :: 2\n",
      "Enter operation :: *\n",
      "mul is ::  4\n"
     ]
    }
   ],
   "source": [
    "a = int(input(\"Enter a number :: \"))\n",
    "b = int(input(\"Enter b number :: \"))\n",
    "op = input(\"Enter operation :: \")\n",
    "\n",
    "if op == '+' :\n",
    "    print(\"Add is :: \",a+b)\n",
    "elif op == '-' :\n",
    "    print(\"sub is :: \",a-b)\n",
    "elif op == '/' :\n",
    "    print(\"div is :: \",a/b)\n",
    "elif op == '*' :\n",
    "    print(\"mul is :: \",a*b)\n",
    "else:\n",
    "    print(\"your input is wrong !!\")"
   ]
  },
  {
   "cell_type": "markdown",
   "metadata": {},
   "source": [
    "### 08) WAP to calculate electricity bill based on following criteria. Which takes the unit from the user.\n",
    "a. First 1 to 50 units – Rs. 2.60/unit</br>\n",
    "b. Next 50 to 100 units – Rs. 3.25/unit</br>\n",
    "c. Next 100 to 200 units – Rs. 5.26/unit</br>\n",
    "d. above 200 units – Rs. 8.45/unit"
   ]
  },
  {
   "cell_type": "code",
   "execution_count": 27,
   "metadata": {},
   "outputs": [
    {
     "name": "stdout",
     "output_type": "stream",
     "text": [
      "Enter your unit :: 234\n",
      "your bill is ::  1977.2999999999997\n"
     ]
    }
   ],
   "source": [
    "unit = float(input(\"Enter your unit :: \"))\n",
    "\n",
    "if unit >= 1 and unit < 50 :\n",
    "    rate = 2.60 * unit\n",
    "    print(\"your bill is :: \",rate)\n",
    "elif unit >= 50 and unit < 100 :\n",
    "    rate = 3.25 * unit\n",
    "    print(\"your bill is :: \",rate)\n",
    "elif unit >= 100 and unit < 200 :\n",
    "    rate = 5.26 * unit\n",
    "    print(\"your bill is :: \",rate)\n",
    "else :\n",
    "    rate = 8.45 * unit\n",
    "    print(\"your bill is :: \",rate)"
   ]
  },
  {
   "cell_type": "markdown",
   "metadata": {},
   "source": [
    "### 01) WAP to read marks of five subjects. Calculate percentage and print class accordingly. \n",
    "Fail below 35 </br>\n",
    "Pass Class between 35 to 45 </br>\n",
    "Second Class</br>\n",
    "between 45 to 60</br>\n",
    "First Class between 60 to 70</br> 3\n",
    "Distinction if more than 70"
   ]
  },
  {
   "cell_type": "code",
   "execution_count": 34,
   "metadata": {},
   "outputs": [
    {
     "name": "stdout",
     "output_type": "stream",
     "text": [
      "Enter marks :: 99\n",
      "Enter marks :: 99\n",
      "Enter marks :: 99\n",
      "Enter marks :: 99\n",
      "Enter marks :: 99\n",
      "Your percentage is ::  99.0 %\n",
      "Distinction\n"
     ]
    }
   ],
   "source": [
    "sub1 = int(input(\"Enter marks :: \"))\n",
    "sub2 = int(input(\"Enter marks :: \"))\n",
    "sub3 = int(input(\"Enter marks :: \"))\n",
    "sub4 = int(input(\"Enter marks :: \"))\n",
    "sub5 = int(input(\"Enter marks :: \"))\n",
    "\n",
    "per = ((sub1 + sub2 + sub3 + sub4 + sub5) / 500 * 100)\n",
    "print(\"Your percentage is :: \" , per , '%')\n",
    "\n",
    "if (per<35) :\n",
    "    print(\"You have fail\")\n",
    "elif (per>=35 and per<45) :\n",
    "    print(\"pass class\")\n",
    "elif (per>=45 and per<60) :\n",
    "    print(\"second class\")\n",
    "elif (per>=60 and per<70) :\n",
    "    print(\"first class\")\n",
    "elif (per>=70) :\n",
    "    print(\"Distinction\")\n",
    "else :\n",
    "    print(\"Invalid input....\")"
   ]
  },
  {
   "cell_type": "markdown",
   "metadata": {},
   "source": [
    "### 02) WAP to find out the Maximum and Minimum number from given 4 numbers."
   ]
  },
  {
   "cell_type": "code",
   "execution_count": 37,
   "metadata": {},
   "outputs": [
    {
     "name": "stdout",
     "output_type": "stream",
     "text": [
      "Enter number :: 22\n",
      "Enter number :: 5\n",
      "Enter number :: 60\n",
      "Enter number :: 90\n",
      "d is maximum\n",
      "b is minimum\n"
     ]
    }
   ],
   "source": [
    "a = int(input(\"Enter number :: \"))\n",
    "b = int(input(\"Enter number :: \"))\n",
    "c = int(input(\"Enter number :: \"))\n",
    "d = int(input(\"Enter number :: \"))\n",
    "\n",
    "if(a>b and a>c and a>d) :\n",
    "    print(\"a is maximum\")\n",
    "elif(b>c and b>d) :\n",
    "    print(\"b is maximum\")\n",
    "elif(c>d) :\n",
    "    print(\"c is maximum\")\n",
    "else :\n",
    "    print(\"d is maximum\")\n",
    "    \n",
    "if(a<b and a<c and a<d) :\n",
    "    print(\"a is minimum\")\n",
    "elif(b<c and b<d) :\n",
    "    print(\"b is minimum\")\n",
    "elif(c<d) :\n",
    "    print(\"c is minimum\")\n",
    "else :\n",
    "    print(\"d is minimum\")"
   ]
  },
  {
   "cell_type": "markdown",
   "metadata": {},
   "source": [
    "### 03) WAP to input an integer number and check the last digit of number is even or odd."
   ]
  },
  {
   "cell_type": "code",
   "execution_count": 38,
   "metadata": {},
   "outputs": [
    {
     "name": "stdout",
     "output_type": "stream",
     "text": [
      "Enter a number :: 1235\n",
      "number is odd..\n"
     ]
    }
   ],
   "source": [
    "num = int(input(\"Enter a number :: \"))\n",
    "\n",
    "if(num%10 != 0) :\n",
    "    if(num%2==0) :\n",
    "        print(\"number is even..\")\n",
    "    else :\n",
    "        print(\"number is odd..\")\n",
    "else :\n",
    "    print(\"Invalid number\")"
   ]
  },
  {
   "cell_type": "markdown",
   "metadata": {},
   "source": [
    "### 04) WAP to determine the roots of the equation ax2+bx+c=0."
   ]
  },
  {
   "cell_type": "code",
   "execution_count": null,
   "metadata": {},
   "outputs": [],
   "source": [
    "import math\n",
    "a = float(input(\"Enter the coefficient a: \"))\n",
    "b = float(input(\"Enter the coefficient b: \"))\n",
    "c = float(input(\"Enter the coefficient c: \"))\n",
    "\n",
    "discriminant = b**2 - 4*a*c\n",
    "\n",
    "if discriminant > 0:\n",
    "    root1 = (-b + math.sqrt(discriminant)) / (2*a)\n",
    "    root2 = (-b - math.sqrt(discriminant)) / (2*a)\n",
    "    print(\"Roots are real and distinct\", root1, root2)\n",
    "elif discriminant == 0:\n",
    "    root = -b / (2*a)\n",
    "    print(f\"The roots are real and identical: {root}\")\n",
    "else:\n",
    "    real = -b / (2*a)\n",
    "    imaginary = math.sqrt(abs(discriminant)) / (2*a)\n",
    "    root1 = complex(real, imaginary)\n",
    "    root2 = complex(real, -imaginary)\n",
    "    print(f\"The roots are complex: {root1}, {root2}\")"
   ]
  }
 ],
 "metadata": {
  "kernelspec": {
   "display_name": "Python 3 (ipykernel)",
   "language": "python",
   "name": "python3"
  },
  "language_info": {
   "codemirror_mode": {
    "name": "ipython",
    "version": 3
   },
   "file_extension": ".py",
   "mimetype": "text/x-python",
   "name": "python",
   "nbconvert_exporter": "python",
   "pygments_lexer": "ipython3",
   "version": "3.10.8"
  }
 },
 "nbformat": 4,
 "nbformat_minor": 4
}
