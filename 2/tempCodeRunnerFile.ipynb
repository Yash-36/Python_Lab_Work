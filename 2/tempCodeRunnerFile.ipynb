year = int(input("Enter the year : "))
if year%4 == 0 and year%100!=0 :
    print("It is a leap year")
elif year%400 == 0 :
    print("It is a leap year")
else :
    print("It is a not leap year")