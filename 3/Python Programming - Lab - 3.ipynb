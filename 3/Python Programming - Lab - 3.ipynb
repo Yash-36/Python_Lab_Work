{
 "cells": [
  {
   "cell_type": "markdown",
   "metadata": {},
   "source": [
    "\n",
    "<a href='https://www.darshan.ac.in/'> <img src='https://www.darshan.ac.in/Content/media/DU_Logo.svg' width=\"250\" height=\"300\"/></a>\n",
    "<pre>\n",
    "<center><b><h1>Python Programming - 2101CS405</b></center>\n",
    "<center><b><h1>Lab - 3</b></center>    \n",
    "<pre>"
   ]
  },
  {
   "cell_type": "code",
   "execution_count": null,
   "metadata": {},
   "outputs": [],
   "source": [
    "Name :- Chandra Yash\n",
    "Enrollment :- 23010101609"
   ]
  },
  {
   "cell_type": "markdown",
   "metadata": {},
   "source": [
    "# for and while loop"
   ]
  },
  {
   "cell_type": "markdown",
   "metadata": {},
   "source": [
    "### 01) WAP to print 1 to 10"
   ]
  },
  {
   "cell_type": "code",
   "execution_count": 42,
   "metadata": {},
   "outputs": [
    {
     "name": "stdout",
     "output_type": "stream",
     "text": [
      "1 2 3 4 5 6 7 8 9 10 "
     ]
    }
   ],
   "source": [
    "for i in range(1,10+1):\n",
    "    print(i , end = \" \")"
   ]
  },
  {
   "cell_type": "markdown",
   "metadata": {},
   "source": [
    "### 02) WAP to print 1 to n"
   ]
  },
  {
   "cell_type": "code",
   "execution_count": 19,
   "metadata": {},
   "outputs": [
    {
     "name": "stdout",
     "output_type": "stream",
     "text": [
      "Enter a number :: 10\n",
      "1 2 3 4 5 6 7 8 9 10 "
     ]
    }
   ],
   "source": [
    "a = int(input(\"Enter a number :: \"))\n",
    "for i in range(1,a+1):\n",
    "    print(i , end = \" \")"
   ]
  },
  {
   "cell_type": "markdown",
   "metadata": {},
   "source": [
    "### 03) WAP to print odd numbers between 1 to n"
   ]
  },
  {
   "cell_type": "code",
   "execution_count": 41,
   "metadata": {},
   "outputs": [
    {
     "name": "stdout",
     "output_type": "stream",
     "text": [
      "Enter a number :: 50\n",
      "1 3 5 7 9 11 13 15 17 19 21 23 25 27 29 31 33 35 37 39 41 43 45 47 49 "
     ]
    }
   ],
   "source": [
    "num = int(input(\"Enter a number :: \"))\n",
    "for num in range(1,num+1):\n",
    "    if(num%2 != 0) :\n",
    "        print(num , end= \" \")"
   ]
  },
  {
   "cell_type": "markdown",
   "metadata": {},
   "source": [
    "### 04) WAP to print numbers between two given numbers which is divisible by 2 but not divisible by 3"
   ]
  },
  {
   "cell_type": "code",
   "execution_count": 40,
   "metadata": {},
   "outputs": [
    {
     "name": "stdout",
     "output_type": "stream",
     "text": [
      "Enter a number :: 1\n",
      "Enter a number :: 50\n",
      "2 4 8 10 14 16 20 22 26 28 32 34 38 40 44 46 50 "
     ]
    }
   ],
   "source": [
    "num1 = int(input(\"Enter a number :: \"))\n",
    "num2 = int(input(\"Enter a number :: \"))\n",
    "for i in range(num1,num2+1) : \n",
    "    if(i%2 == 0 and i%3 != 0) :\n",
    "        print(i,end=\" \")"
   ]
  },
  {
   "cell_type": "markdown",
   "metadata": {},
   "source": [
    "### 05) WAP to print sum of 1 to n numbers"
   ]
  },
  {
   "cell_type": "code",
   "execution_count": 34,
   "metadata": {},
   "outputs": [
    {
     "name": "stdout",
     "output_type": "stream",
     "text": [
      "Enter a number :: 8\n",
      "36\n"
     ]
    }
   ],
   "source": [
    "num = int(input(\"Enter a number :: \"))\n",
    "sum = 0\n",
    "for i in range(1,num+1) : \n",
    "    sum = sum + i\n",
    "print(sum)"
   ]
  },
  {
   "cell_type": "markdown",
   "metadata": {},
   "source": [
    "### 06) WAP to print sum of series 1 + 4 + 9 + 16 + 25 + 36 + ...n"
   ]
  },
  {
   "cell_type": "code",
   "execution_count": 37,
   "metadata": {},
   "outputs": [
    {
     "name": "stdout",
     "output_type": "stream",
     "text": [
      "Enter a number :: 5\n",
      "55 "
     ]
    }
   ],
   "source": [
    "num = int(input(\"Enter a number :: \"))\n",
    "sum = 0\n",
    "for i in range(1,num+1) : \n",
    "    sum = sum + i * i\n",
    "print(sum,end=\" \")"
   ]
  },
  {
   "cell_type": "markdown",
   "metadata": {},
   "source": [
    "### 07) WAP to print sum of series 1 – 2 + 3 – 4 + 5 – 6 + 7 ... n"
   ]
  },
  {
   "cell_type": "code",
   "execution_count": 39,
   "metadata": {},
   "outputs": [
    {
     "name": "stdout",
     "output_type": "stream",
     "text": [
      "Enter a number :: 5\n",
      "3\n"
     ]
    }
   ],
   "source": [
    "num = int(input(\"Enter a number :: \"))\n",
    "sum = 0\n",
    "for i in range(1,num+1) : \n",
    "    if(i%2==0):\n",
    "        sum = sum - i\n",
    "    else:\n",
    "        sum = sum + i\n",
    "print(sum)"
   ]
  },
  {
   "cell_type": "markdown",
   "metadata": {},
   "source": [
    "### 08) WAP to print multiplication table of given number."
   ]
  },
  {
   "cell_type": "code",
   "execution_count": 113,
   "metadata": {},
   "outputs": [
    {
     "name": "stdout",
     "output_type": "stream",
     "text": [
      "5 * 1 = 5\n",
      "5 * 2 = 10\n",
      "5 * 3 = 15\n",
      "5 * 4 = 20\n",
      "5 * 5 = 25\n",
      "5 * 6 = 30\n",
      "5 * 7 = 35\n",
      "5 * 8 = 40\n",
      "5 * 9 = 45\n",
      "5 * 10 = 50\n"
     ]
    }
   ],
   "source": [
    "num = int(input(\"Enter a number :: \"))\n",
    "num2 = int(input(\"Enter a limit...\"))\n",
    "for i in range(1,num2+1):\n",
    "    ans = num * i\n",
    "    print(num,\"*\",i,\"=\",ans)"
   ]
  },
  {
   "cell_type": "markdown",
   "metadata": {},
   "source": [
    "### 09) WAP to find factorial of the given number"
   ]
  },
  {
   "cell_type": "code",
   "execution_count": 69,
   "metadata": {},
   "outputs": [
    {
     "name": "stdout",
     "output_type": "stream",
     "text": [
      "Enter a number :: 6\n",
      "factorial is : 720\n"
     ]
    }
   ],
   "source": [
    "num = int(input(\"Enter a number :: \"))\n",
    "fact = 1\n",
    "for i in range(1,num+1) :\n",
    "    fact = fact * i\n",
    "print(\"factorial is :\",fact)"
   ]
  },
  {
   "cell_type": "markdown",
   "metadata": {},
   "source": [
    "### 10) WAP to find factors of the given number"
   ]
  },
  {
   "cell_type": "code",
   "execution_count": 74,
   "metadata": {},
   "outputs": [
    {
     "name": "stdout",
     "output_type": "stream",
     "text": [
      "Enter a number :: 60\n",
      "1 2 3 4 5 6 10 12 15 20 30 60 "
     ]
    }
   ],
   "source": [
    "num = int(input(\"Enter a number :: \"))\n",
    "for i in range(1,num+1) :\n",
    "    if(num%i==0) :\n",
    "        print(i,end=\" \")"
   ]
  },
  {
   "cell_type": "markdown",
   "metadata": {},
   "source": [
    "### 11) WAP to find whether the given number is prime or not."
   ]
  },
  {
   "cell_type": "code",
   "execution_count": 76,
   "metadata": {},
   "outputs": [
    {
     "name": "stdout",
     "output_type": "stream",
     "text": [
      "Enter a number :: 103\n",
      "number is prime...\n"
     ]
    }
   ],
   "source": [
    "num = int(input(\"Enter a number :: \"))\n",
    "for i in range(2,num+1) : \n",
    "    if(num%i==0):\n",
    "        print(\"number is not prime...\")\n",
    "        break\n",
    "    else:\n",
    "        print(\"number is prime...\")\n",
    "        break"
   ]
  },
  {
   "cell_type": "markdown",
   "metadata": {},
   "source": [
    "### 12) WAP to print sum of digits of given number"
   ]
  },
  {
   "cell_type": "code",
   "execution_count": 84,
   "metadata": {},
   "outputs": [
    {
     "name": "stdout",
     "output_type": "stream",
     "text": [
      "Enter a number :: 35421\n",
      "15\n"
     ]
    }
   ],
   "source": [
    "num = int(input(\"Enter a number :: \"))\n",
    "sum = 0\n",
    "for i in range(1,num+1) : \n",
    "    sum = sum + num % 10\n",
    "    num //= 10\n",
    "print(sum)"
   ]
  },
  {
   "cell_type": "markdown",
   "metadata": {},
   "source": [
    "### 13) WAP to check whether the given number is palindrome or not"
   ]
  },
  {
   "cell_type": "code",
   "execution_count": 92,
   "metadata": {},
   "outputs": [
    {
     "name": "stdout",
     "output_type": "stream",
     "text": [
      "Enter a number :: 123321\n",
      "123321 is a palindrome\n"
     ]
    }
   ],
   "source": [
    "num = int(input(\"Enter a number :: \"))\n",
    "rev = 0\n",
    "temp = rev\n",
    "while(num>0) :\n",
    "    dig = num % 10\n",
    "    rev = rev * 10 + dig\n",
    "    num //= 10\n",
    "\n",
    "if(temp == num) :\n",
    "    print(rev,\"is a palindrome\")\n",
    "else :\n",
    "    print(rev,\"is not palindrome\")"
   ]
  },
  {
   "cell_type": "markdown",
   "metadata": {},
   "source": [
    "### 01) WAP to check whether the given number is Armstrong or not."
   ]
  },
  {
   "cell_type": "code",
   "execution_count": 1,
   "metadata": {},
   "outputs": [
    {
     "name": "stdout",
     "output_type": "stream",
     "text": [
      "103  is Not  Armstrong\n"
     ]
    }
   ],
   "source": [
    "num=int(input(\"Enter Number\"))\n",
    "sum=0\n",
    "temp=num\n",
    "while(temp>0):\n",
    "    rem = temp % 10\n",
    "    sum += rem * rem * rem\n",
    "    temp = int(temp / 10)\n",
    "    \n",
    "if(sum == num ):\n",
    "    print( num,\" is  Armstrong\")\n",
    "else:\n",
    "    print( num,\" is Not  Armstrong\")"
   ]
  },
  {
   "cell_type": "markdown",
   "metadata": {},
   "source": [
    "### 02) WAP to find out prime numbers between given two numbers."
   ]
  },
  {
   "cell_type": "code",
   "execution_count": 104,
   "metadata": {},
   "outputs": [
    {
     "name": "stdout",
     "output_type": "stream",
     "text": [
      "Enter a number :: 1\n",
      "Enter a number :: 10\n",
      "1 3 5 7 9 "
     ]
    }
   ],
   "source": [
    "num1 = int(input(\"Enter a number :: \"))\n",
    "num2 = int(input(\"Enter a number :: \"))\n",
    "\n",
    "for i in range(num1,num2) : \n",
    "    for j in range(1,i+1) :\n",
    "        if(i%2==0):\n",
    "            break\n",
    "        else :\n",
    "            print(i,end=\" \")\n",
    "            break"
   ]
  },
  {
   "cell_type": "markdown",
   "metadata": {},
   "source": [
    "### 03) WAP to calculate x^y without using any function."
   ]
  },
  {
   "cell_type": "code",
   "execution_count": 2,
   "metadata": {},
   "outputs": [
    {
     "name": "stdout",
     "output_type": "stream",
     "text": [
      "5 ^ 2 = 25\n"
     ]
    }
   ],
   "source": [
    "base = int(input(\"Enter a Base\"))\n",
    "exp = int(input(\"Enter Exponent/Power\"))\n",
    "ans = 1\n",
    "for i in range(1,exp+1):\n",
    "    ans=ans*base\n",
    "print( base,\"^\",exp,\"=\" ,ans)"
   ]
  },
  {
   "cell_type": "markdown",
   "metadata": {},
   "source": [
    "### 04) WAP to check whether the given number is perfect or not.\n",
    "[Sum of factors including 1 excluding number itself]"
   ]
  },
  {
   "cell_type": "code",
   "execution_count": 7,
   "metadata": {},
   "outputs": [
    {
     "name": "stdout",
     "output_type": "stream",
     "text": [
      "24 is Not Perfect Number...\n"
     ]
    }
   ],
   "source": [
    "num = int (input(\"Enter a Number\"))\n",
    "div=0\n",
    "for i in range(1,num):\n",
    "    if(num % i == 0):\n",
    "        div += i\n",
    "if(div == num):\n",
    "    print(num,\"is Perfect Number...\")\n",
    "else:\n",
    "    print(num,\"is Not Perfect Number...\")"
   ]
  },
  {
   "cell_type": "markdown",
   "metadata": {},
   "source": [
    "### 05) WAP to find the sum of 1 + (1+2) + (1+2+3) + (1+2+3+4)+...+(1+2+3+4+....+n)"
   ]
  },
  {
   "cell_type": "code",
   "execution_count": null,
   "metadata": {},
   "outputs": [],
   "source": [
    "num = int(input(\"Enter a number:: \"))\n",
    "sum = 0\n",
    "for i in range(1, num+1):\n",
    "  result = 0\n",
    "  for j in range(1, j+1):\n",
    "    result = result + j\n",
    "    sum = sum + result\n",
    "print(f\"Sum of series is:: {sum}\")"
   ]
  },
  {
   "cell_type": "markdown",
   "metadata": {},
   "source": [
    "### 06) WAP to print Multiplication Table up to n"
   ]
  },
  {
   "cell_type": "code",
   "execution_count": 114,
   "metadata": {},
   "outputs": [
    {
     "name": "stdout",
     "output_type": "stream",
     "text": [
      "Enter a number :: 5\n",
      "Enter a limit...10\n",
      "5 * 1 = 5\n",
      "5 * 2 = 10\n",
      "5 * 3 = 15\n",
      "5 * 4 = 20\n",
      "5 * 5 = 25\n",
      "5 * 6 = 30\n",
      "5 * 7 = 35\n",
      "5 * 8 = 40\n",
      "5 * 9 = 45\n",
      "5 * 10 = 50\n"
     ]
    }
   ],
   "source": [
    "num = int(input(\"Enter a number :: \"))\n",
    "num2 = int(input(\"Enter a limit...\"))\n",
    "for i in range(1,num2+1):\n",
    "    ans = num * i\n",
    "    print(num,\"*\",i,\"=\",ans)"
   ]
  }
 ],
 "metadata": {
  "kernelspec": {
   "display_name": "Python 3 (ipykernel)",
   "language": "python",
   "name": "python3"
  },
  "language_info": {
   "codemirror_mode": {
    "name": "ipython",
    "version": 3
   },
   "file_extension": ".py",
   "mimetype": "text/x-python",
   "name": "python",
   "nbconvert_exporter": "python",
   "pygments_lexer": "ipython3",
   "version": "3.10.8"
  }
 },
 "nbformat": 4,
 "nbformat_minor": 4
}
