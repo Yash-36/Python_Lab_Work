{
 "cells": [
  {
   "cell_type": "markdown",
   "metadata": {},
   "source": [
    "\n",
    "<a href='https://www.darshan.ac.in/'> <img src='https://www.darshan.ac.in/Content/media/DU_Logo.svg' width=\"250\" height=\"300\"/></a>\n",
    "<pre>\n",
    "<center><b><h1>Python Programming - 2101CS405</b></center>\n",
    "<center><b><h1>Lab - 4</b></center>    \n",
    "<pre>"
   ]
  },
  {
   "cell_type": "code",
   "execution_count": null,
   "metadata": {},
   "outputs": [],
   "source": [
    "Name :- Chandra Yash\n",
    "Enrollment :- 23010101609"
   ]
  },
  {
   "cell_type": "markdown",
   "metadata": {},
   "source": [
    "### 01) WAP to check given string is palindrome or not."
   ]
  },
  {
   "cell_type": "code",
   "execution_count": 4,
   "metadata": {},
   "outputs": [
    {
     "name": "stdout",
     "output_type": "stream",
     "text": [
      "ada\n",
      "ada\n",
      "Palindrome\n"
     ]
    }
   ],
   "source": [
    "strX=input(\"Enter a string : \")\n",
    "listX=strX[::-1]\n",
    "if strX==listX:\n",
    "    print(\"Palindrome\")\n",
    "else:\n",
    "    print(\"Not Palindrome\")"
   ]
  },
  {
   "cell_type": "markdown",
   "metadata": {},
   "source": [
    "### 02) WAP to reverse the words in given string."
   ]
  },
  {
   "cell_type": "code",
   "execution_count": 2,
   "metadata": {},
   "outputs": [
    {
     "name": "stdout",
     "output_type": "stream",
     "text": [
      "Original : darshan university\n",
      "Reversed : university darshan\n"
     ]
    }
   ],
   "source": [
    "strX=input(\"Enter a string : \")\n",
    "listA=list(strX.split(\" \")[::-1])\n",
    "reversedStr = \" \".join(listA)\n",
    "print(f\"Original : {strX}\")\n",
    "print(f\"Reversed : {reversedStr}\")"
   ]
  },
  {
   "cell_type": "markdown",
   "metadata": {},
   "source": [
    "### 03) WAP to remove ith character from given string"
   ]
  },
  {
   "cell_type": "code",
   "execution_count": 3,
   "metadata": {},
   "outputs": [
    {
     "name": "stdout",
     "output_type": "stream",
     "text": [
      "s\n"
     ]
    }
   ],
   "source": [
    "strX=input(\"Enter a string : \")\n",
    "index=int(input(\"Enter the index :\"))\n",
    "print(strX[index])"
   ]
  },
  {
   "cell_type": "markdown",
   "metadata": {},
   "source": [
    "### 04) WAP to find length of String without using len function."
   ]
  },
  {
   "cell_type": "code",
   "execution_count": 4,
   "metadata": {},
   "outputs": [
    {
     "name": "stdout",
     "output_type": "stream",
     "text": [
      "18\n"
     ]
    }
   ],
   "source": [
    "strX=input(\"Enter string : \")\n",
    "count=0\n",
    "for i in strX:\n",
    "    count=count+1\n",
    "print(count)"
   ]
  },
  {
   "cell_type": "markdown",
   "metadata": {},
   "source": [
    "### 05) WAP to print even length word in string."
   ]
  },
  {
   "cell_type": "code",
   "execution_count": 9,
   "metadata": {},
   "outputs": [
    {
     "name": "stdout",
     "output_type": "stream",
     "text": [
      "university\n",
      "rajkot\n"
     ]
    }
   ],
   "source": [
    "strX=input(\"Enter string : \")\n",
    "list=strX.split(\" \")\n",
    "for i in list:\n",
    "    if(len(i)%2==0):\n",
    "        print(i)"
   ]
  },
  {
   "cell_type": "markdown",
   "metadata": {},
   "source": [
    "### 06) WAP to count numbers of vowels in given string."
   ]
  },
  {
   "cell_type": "code",
   "execution_count": 8,
   "metadata": {},
   "outputs": [
    {
     "name": "stdout",
     "output_type": "stream",
     "text": [
      "3\n"
     ]
    }
   ],
   "source": [
    "strX=input(\"Enter string : \")\n",
    "count=0\n",
    "for i in strX:\n",
    "    if (i.lower() in ('a', 'e', 'i', 'o', 'u')):\n",
    "        count=count+1\n",
    "print(count)"
   ]
  },
  {
   "cell_type": "markdown",
   "metadata": {},
   "source": [
    "### 07) WAP to convert given array to string."
   ]
  },
  {
   "cell_type": "code",
   "execution_count": 10,
   "metadata": {},
   "outputs": [
    {
     "name": "stdout",
     "output_type": "stream",
     "text": [
      "My name is yash chandra\n"
     ]
    }
   ],
   "source": [
    "list=[\"My\",\"name\",\"is\",\"yash\",\"chandra\"]\n",
    "strx=\" \".join(list)\n",
    "print(strx)"
   ]
  },
  {
   "cell_type": "markdown",
   "metadata": {},
   "source": [
    "### 01) WAP to find out duplicate characters in given string."
   ]
  },
  {
   "cell_type": "code",
   "execution_count": 12,
   "metadata": {},
   "outputs": [
    {
     "name": "stdout",
     "output_type": "stream",
     "text": [
      "Duplicate characters : \n",
      "a : 4\n",
      "l : 2\n",
      "a : 3\n",
      "b : 2\n",
      "a : 2\n"
     ]
    }
   ],
   "source": [
    "string = input(\"Enter a string : \")\n",
    "print(\"Duplicate characters : \")\n",
    "for i in range(0, len(string)):\n",
    "    count = 1\n",
    "    for j in range(i+1, len(string)):\n",
    "        if(string[i] == string[j] and string[i] != ' '):\n",
    "            count = count + 1\n",
    "            string = string[:j] + '0' + string[j+1:]\n",
    "    if(count > 1 and string[i] != '0'):\n",
    "        print(f\"{string[i]} : {count}\")"
   ]
  },
  {
   "cell_type": "markdown",
   "metadata": {},
   "source": [
    "### 02) WAP to capitalize the first and last character of each word in a string."
   ]
  },
  {
   "cell_type": "code",
   "execution_count": 11,
   "metadata": {},
   "outputs": [
    {
     "name": "stdout",
     "output_type": "stream",
     "text": [
      "String after: MY NamE IS YasH\n"
     ]
    }
   ],
   "source": [
    "_str = input(\"Enter a string : \")\n",
    "array = _str.split()\n",
    "res = []\n",
    "for i in array:\n",
    "    x = i[0].upper() + i[1:-1] + i[-1].upper()\n",
    "    res.append(x)\n",
    "res = \" \".join(res)\n",
    "print(\"String after:\", res)"
   ]
  },
  {
   "cell_type": "markdown",
   "metadata": {},
   "source": [
    "### 03) WAP to find Maximum frequency character in String."
   ]
  },
  {
   "cell_type": "code",
   "execution_count": 12,
   "metadata": {},
   "outputs": [
    {
     "name": "stdout",
     "output_type": "stream",
     "text": [
      "String :  darshan darshan\n",
      "a => frequency :  4\n"
     ]
    }
   ],
   "source": [
    "_str =  input('Enter the string : ')\n",
    "freq = {}\n",
    "for keyChar in _str:\n",
    "    if keyChar in freq:\n",
    "        freq[keyChar] += 1\n",
    "    else:\n",
    "        freq[keyChar] = 1\n",
    "maxChar = max(freq, key = freq.get)\n",
    "print(\"String : \", _str)\n",
    "print(maxChar , \"=> frequency : \" , freq[maxChar])"
   ]
  },
  {
   "cell_type": "markdown",
   "metadata": {},
   "source": [
    "### 04) WAP to find Minimum frequency character in String."
   ]
  },
  {
   "cell_type": "code",
   "execution_count": 13,
   "metadata": {},
   "outputs": [
    {
     "name": "stdout",
     "output_type": "stream",
     "text": [
      "String :  darshan darshan\n",
      "  => frequency :  1\n"
     ]
    }
   ],
   "source": [
    "_str =  input('Enter the string : ')\n",
    "freq = {}\n",
    "for i in _str:\n",
    "    if i in freq:\n",
    "        freq[i] += 1\n",
    "    else:\n",
    "        freq[i] = 1\n",
    "minFreqChar = min(freq, key = freq.get)\n",
    "print(\"String : \", _str)\n",
    "print(minFreqChar , \"=> frequency : \" , freq[minFreqChar])\n"
   ]
  },
  {
   "cell_type": "markdown",
   "metadata": {},
   "source": [
    "### 05) WAP to check if a given string is binary string or not"
   ]
  },
  {
   "cell_type": "code",
   "execution_count": 16,
   "metadata": {},
   "outputs": [
    {
     "name": "stdout",
     "output_type": "stream",
     "text": [
      "Binary String.\n"
     ]
    }
   ],
   "source": [
    "str = input(\"Enter a binary string : \")\n",
    "binary = {'0','1'}\n",
    "x = set(str)\n",
    "\n",
    "if binary == x or x == {'0'} or x == {'1'}:\n",
    "    print(\"Binary String.\")\n",
    "else:\n",
    "    print(\"Not Binary String.\")    "
   ]
  }
 ],
 "metadata": {
  "kernelspec": {
   "display_name": "Python 3",
   "language": "python",
   "name": "python3"
  },
  "language_info": {
   "codemirror_mode": {
    "name": "ipython",
    "version": 3
   },
   "file_extension": ".py",
   "mimetype": "text/x-python",
   "name": "python",
   "nbconvert_exporter": "python",
   "pygments_lexer": "ipython3",
   "version": "3.11.0"
  },
  "vscode": {
   "interpreter": {
    "hash": "0d5eec78a37ea6fc2b3284bacdb9ef8ae50d1b9f72a0fc78f32f14c7c428fbcf"
   }
  }
 },
 "nbformat": 4,
 "nbformat_minor": 4
}
