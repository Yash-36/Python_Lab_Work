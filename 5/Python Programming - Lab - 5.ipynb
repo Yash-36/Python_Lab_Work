{
 "cells": [
  {
   "cell_type": "markdown",
   "metadata": {},
   "source": [
    "\n",
    "<a href='https://www.darshan.ac.in/'> <img src='https://www.darshan.ac.in/Content/media/DU_Logo.svg' width=\"250\" height=\"300\"/></a>\n",
    "<pre>\n",
    "<center><b><h1>Python Programming - 2101CS405</b></center>\n",
    "<center><b><h1>Lab - 5</b></center>    \n",
    "<pre>"
   ]
  },
  {
   "cell_type": "markdown",
   "metadata": {},
   "source": [
    "# list"
   ]
  },
  {
   "cell_type": "markdown",
   "metadata": {},
   "source": [
    "### 01) WAP to find sum of all the elements in List."
   ]
  },
  {
   "cell_type": "code",
   "execution_count": 1,
   "metadata": {},
   "outputs": [
    {
     "name": "stdout",
     "output_type": "stream",
     "text": [
      "Enter Size of List :: 5\n",
      "1\n",
      "2\n",
      "3\n",
      "4\n",
      "5\n",
      "List is = [1, 2, 3, 4, 5]\n",
      "Sum is = 15\n"
     ]
    }
   ],
   "source": [
    "myList = []\n",
    "limit =int(input(\"Enter Size of List :: \"))\n",
    "\n",
    "for i in range(0,limit):\n",
    "    num = int(input())\n",
    "    myList.append(num)\n",
    "print(\"List is =\",myList)\n",
    "\n",
    "total = sum(myList)\n",
    "print(\"Sum is =\",total)"
   ]
  },
  {
   "cell_type": "markdown",
   "metadata": {},
   "source": [
    "### 02) WAP to find largest element in a List."
   ]
  },
  {
   "cell_type": "code",
   "execution_count": 2,
   "metadata": {},
   "outputs": [
    {
     "name": "stdout",
     "output_type": "stream",
     "text": [
      "Enter Size of List :: 5\n",
      "20\n",
      "50\n",
      "90\n",
      "50\n",
      "1\n",
      "List is = [20, 50, 90, 50, 1]\n",
      "max is = 90\n"
     ]
    }
   ],
   "source": [
    "myList = []\n",
    "limit =int(input(\"Enter Size of List :: \"))\n",
    "\n",
    "for i in range(0,limit):\n",
    "    num = int(input())\n",
    "    myList.append(num)\n",
    "print(\"List is =\",myList)\n",
    "\n",
    "ans = max(myList)\n",
    "print(\"max is =\",ans)"
   ]
  },
  {
   "cell_type": "markdown",
   "metadata": {},
   "source": [
    "### 03) WAP to split the List into two and append the first part to the end."
   ]
  },
  {
   "cell_type": "code",
   "execution_count": 6,
   "metadata": {},
   "outputs": [
    {
     "name": "stdout",
     "output_type": "stream",
     "text": [
      "Enter Size of List :: 5\n",
      "1\n",
      "2\n",
      "3\n",
      "4\n",
      "5\n",
      "List is = [1, 2, 3, 4, 5]\n",
      "[3, 4, 5, 1, 2]\n"
     ]
    }
   ],
   "source": [
    "myList = []\n",
    "limit =int(input(\"Enter Size of List :: \"))\n",
    "\n",
    "for i in range(0,limit):\n",
    "    num = int(input())\n",
    "    myList.append(num)\n",
    "print(\"List is =\",myList)\n",
    "mid = len(myList)//2\n",
    "partA = myList[mid:]\n",
    "partB = myList[:mid]\n",
    "\n",
    "result = partA + partB\n",
    "print(result)"
   ]
  },
  {
   "cell_type": "markdown",
   "metadata": {},
   "source": [
    "### 04) WAP to interchange first and last elements in list entered by a user."
   ]
  },
  {
   "cell_type": "code",
   "execution_count": 8,
   "metadata": {},
   "outputs": [
    {
     "name": "stdout",
     "output_type": "stream",
     "text": [
      "Enter Size of List :: 5\n",
      "1\n",
      "2\n",
      "3\n",
      "4\n",
      "5\n",
      "List is = [1, 2, 3, 4, 5]\n",
      "New List = [5, 2, 3, 4, 1]\n"
     ]
    }
   ],
   "source": [
    "myList = []\n",
    "limit = int(input(\"Enter Size of List :: \"))\n",
    "\n",
    "for i in range(0,limit):\n",
    "    num = int(input())\n",
    "    myList.append(num)\n",
    "    \n",
    "print(\"List is =\",myList)\n",
    "\n",
    "myList[0],myList[-1] = myList[-1],myList[0]\n",
    "print(\"New List =\",myList)"
   ]
  },
  {
   "cell_type": "markdown",
   "metadata": {},
   "source": [
    "### 05) WAP to interchange the elements on two positions entered by a user."
   ]
  },
  {
   "cell_type": "code",
   "execution_count": 11,
   "metadata": {},
   "outputs": [
    {
     "name": "stdout",
     "output_type": "stream",
     "text": [
      "Enter Size of List :: 5\n",
      "1\n",
      "2\n",
      "3\n",
      "4\n",
      "5\n",
      "List is = [1, 2, 3, 4, 5]\n",
      "Enter the position1 :: 2\n",
      "Enter the position2 :: 3\n",
      "New List = [1, 2, 4, 3, 5]\n"
     ]
    }
   ],
   "source": [
    "myList = []\n",
    "limit = int(input(\"Enter Size of List :: \"))\n",
    "\n",
    "for i in range(0,limit):\n",
    "    num = int(input())\n",
    "    myList.append(num)\n",
    "    \n",
    "print(\"List is =\",myList)\n",
    "\n",
    "pos1 = int(input(\"Enter the position1 :: \"))\n",
    "pos2 = int(input(\"Enter the position2 :: \"))\n",
    "\n",
    "myList[pos1],myList[pos2] = myList[pos2],myList[pos1]\n",
    "print(\"New List =\",myList)"
   ]
  },
  {
   "cell_type": "markdown",
   "metadata": {},
   "source": [
    "### 06) WAP to reverses the list entered by user."
   ]
  },
  {
   "cell_type": "code",
   "execution_count": 15,
   "metadata": {},
   "outputs": [
    {
     "name": "stdout",
     "output_type": "stream",
     "text": [
      "Enter Size of List :: 5\n",
      "1\n",
      "2\n",
      "3\n",
      "4\n",
      "5\n",
      "List is = [1, 2, 3, 4, 5]\n",
      "reverse = [5, 4, 3, 2, 1]\n"
     ]
    }
   ],
   "source": [
    "myList = []\n",
    "limit = int(input(\"Enter Size of List :: \"))\n",
    "\n",
    "for i in range(0,limit):\n",
    "    num = int(input())\n",
    "    myList.append(num)\n",
    "print(\"List is =\",myList)\n",
    "print(\"reverse =\",myList[::-1])"
   ]
  },
  {
   "cell_type": "markdown",
   "metadata": {},
   "source": [
    "### 07) Python program to remove multiple elements from a list using list comprehension"
   ]
  },
  {
   "cell_type": "code",
   "execution_count": 4,
   "metadata": {},
   "outputs": [
    {
     "name": "stdout",
     "output_type": "stream",
     "text": [
      "Enter Size of List :: 5\n",
      "1\n",
      "2\n",
      "3\n",
      "4\n",
      "5\n",
      "List is = [1, 2, 3, 4, 5]\n",
      "numb of itr :: 2\n",
      "Enter the remove Element :: 3\n",
      "Enter the remove Element :: 4\n",
      "[1, 2, 5]\n",
      "[3, 4]\n"
     ]
    }
   ],
   "source": [
    "myList = []\n",
    "limit = int(input(\"Enter Size of List :: \"))\n",
    "\n",
    "for i in range(0,limit):\n",
    "    num = int(input())\n",
    "    myList.append(num)\n",
    "print(\"List is =\",myList)\n",
    "\n",
    "myList2 = []\n",
    "\n",
    "itr = int(input(\"numb of itr :: \"))\n",
    "\n",
    "for i in range(itr):\n",
    "    x = int(input(\"Enter the remove Element :: \"))\n",
    "    myList2.append(x)\n",
    "    \n",
    "\n",
    "result = [x for x in myList if x not in myList2]\n",
    "\n",
    "print(\"New List :: \" ,result)\n",
    "\n",
    "print(\"Remove Element :: \",myList2) \n",
    "\n",
    "\n"
   ]
  },
  {
   "cell_type": "markdown",
   "metadata": {},
   "source": [
    "### 08) Create a list from the specified start to end index of another list."
   ]
  },
  {
   "cell_type": "code",
   "execution_count": 2,
   "metadata": {},
   "outputs": [
    {
     "name": "stdout",
     "output_type": "stream",
     "text": [
      "[3, 4, 5]\n"
     ]
    }
   ],
   "source": [
    "list = []\n",
    "limit = int(input(\"Enter limit : \"))\n",
    "for i in range(0,limit) :\n",
    "    value = int(input(\"Enter value in list : \"))\n",
    "    list.append(value)\n",
    "starting = int(input(\"Starting index : \"))\n",
    "ending = int(input(\"Ending index : \"))\n",
    "flist = list[starting:ending]\n",
    "print(flist)"
   ]
  },
  {
   "cell_type": "markdown",
   "metadata": {},
   "source": [
    "### 09) Input comma separated elements, convert into list and print."
   ]
  },
  {
   "cell_type": "code",
   "execution_count": 5,
   "metadata": {},
   "outputs": [
    {
     "name": "stdout",
     "output_type": "stream",
     "text": [
      "['yash', 'mohit', 'mudit', 'jay']\n"
     ]
    }
   ],
   "source": [
    "list2 = []\n",
    "value1 = input(\"Enter values : \")\n",
    "data = value1.split(\",\")\n",
    "print(data)"
   ]
  },
  {
   "cell_type": "markdown",
   "metadata": {},
   "source": [
    "### 01) WAP to count Even and Odd numbers in a List."
   ]
  },
  {
   "cell_type": "code",
   "execution_count": 1,
   "metadata": {},
   "outputs": [
    {
     "name": "stdout",
     "output_type": "stream",
     "text": [
      "Elements Are==> [1, 2, 3, 4, 5]\n",
      "Even Numbers are ==> 2\n",
      "Odd Numbers are ==> 3\n"
     ]
    }
   ],
   "source": [
    "list2=[]\n",
    "limit2=int(input(\"Enter limit of list==>\"))\n",
    "for i in range(0,limit2):\n",
    "    value=int(input(\"Enter Value=>\"))\n",
    "    list2.append(value)\n",
    "print(\"Elements Are==>\",list2)\n",
    "list1=[i for i in list2 if i%2==0]\n",
    "list3=[i for i in list2 if i%2!=0]\n",
    "print(\"Even Numbers are ==>\",len(list1))\n",
    "print(\"Odd Numbers are ==>\",len(list3))"
   ]
  },
  {
   "cell_type": "markdown",
   "metadata": {},
   "source": [
    "### 02) Python program to find N largest and smallest elements from the list"
   ]
  },
  {
   "cell_type": "code",
   "execution_count": 3,
   "metadata": {},
   "outputs": [
    {
     "name": "stdout",
     "output_type": "stream",
     "text": [
      "Total max Element==> 39\n",
      "Total min Element==> 20\n"
     ]
    }
   ],
   "source": [
    "list2=[]\n",
    "limit2=int(input(\"Enter limit of list==>\"))\n",
    "for i in range(0,limit2):\n",
    "    value=int(input(\"Enter Value=>\"))\n",
    "    list2.append(value)\n",
    "maxi=max(list2)\n",
    "smallest=min(list2)\n",
    "print(\"Total max Element==>\",maxi)\n",
    "print(\"Total min Element==>\",smallest)"
   ]
  },
  {
   "cell_type": "markdown",
   "metadata": {},
   "source": [
    "### 03) WAP to print duplicates from a list of integers"
   ]
  },
  {
   "cell_type": "code",
   "execution_count": 4,
   "metadata": {},
   "outputs": [
    {
     "name": "stdout",
     "output_type": "stream",
     "text": [
      "Duplicate elements==> [1, 2]\n"
     ]
    }
   ],
   "source": [
    "list2=[]\n",
    "limit2=int(input(\"Enter limit of list==>\"))\n",
    "for i in range(0,limit2):\n",
    "    value=int(input(\"Enter Value=>\"))\n",
    "    list2.append(value)\n",
    "list2.sort()\n",
    "uele=[]\n",
    "dele=[]\n",
    "for i in list2:\n",
    "    if i not in uele:\n",
    "        uele.append(i)\n",
    "    elif i not in dele:\n",
    "        dele.append(i)\n",
    "print(\"Duplicate elements==>\",dele)"
   ]
  }
 ],
 "metadata": {
  "kernelspec": {
   "display_name": "Python 3 (ipykernel)",
   "language": "python",
   "name": "python3"
  },
  "language_info": {
   "codemirror_mode": {
    "name": "ipython",
    "version": 3
   },
   "file_extension": ".py",
   "mimetype": "text/x-python",
   "name": "python",
   "nbconvert_exporter": "python",
   "pygments_lexer": "ipython3",
   "version": "3.10.8"
  }
 },
 "nbformat": 4,
 "nbformat_minor": 4
}
