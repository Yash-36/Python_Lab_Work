{
 "cells": [
  {
   "attachments": {},
   "cell_type": "markdown",
   "metadata": {},
   "source": [
    "<a href='https://www.darshan.ac.in/'> <img src='https://www.darshan.ac.in/Content/media/DU_Logo.svg' width=\"250\" height=\"300\"/></a>\n",
    "<pre>\n",
    "<center><b><h1>Python Programming - 2101CS405</b></center>\n",
    "<center><b><h1>Lab - 6</b></center>    \n",
    "<pre>"
   ]
  },
  {
   "cell_type": "markdown",
   "metadata": {},
   "source": [
    "# Tuples, dictionary, set"
   ]
  },
  {
   "cell_type": "markdown",
   "metadata": {},
   "source": [
    "# A"
   ]
  },
  {
   "cell_type": "markdown",
   "metadata": {},
   "source": [
    "### 01) WAP to sort python dictionary by key or value."
   ]
  },
  {
   "cell_type": "code",
   "execution_count": 23,
   "metadata": {},
   "outputs": [
    {
     "name": "stdout",
     "output_type": "stream",
     "text": [
      "Original Dict :     {1: 'Dog', 9: 'Monkey', 4: 'Cat', 7: 'Giraffe', 2: 'Zebra'}\n",
      "Key Sorted Dict :   {1: 'Dog', 2: 'Zebra', 4: 'Cat', 7: 'Giraffe', 9: 'Monkey'}\n",
      "Value sorted Dict : {4: 'Cat', 1: 'Dog', 7: 'Giraffe', 9: 'Monkey', 2: 'Zebra'}\n"
     ]
    }
   ],
   "source": [
    "testDict={1: 'Dog',9:'Monkey',4: 'Cat',7:'Giraffe',2:'Zebra'}\n",
    "print(f\"Original Dict :     {testDict}\")\n",
    "\n",
    "keySortedDict = {k:v for k, v in sorted(testDict.items())}\n",
    "print(f\"Key Sorted Dict :   {keySortedDict}\")\n",
    "\n",
    "valueSortedDict={k: v for k, v in sorted(testDict.items(), key=lambda v: v[1])}\n",
    "print(f\"Value sorted Dict : {valueSortedDict}\")"
   ]
  },
  {
   "cell_type": "markdown",
   "metadata": {},
   "source": []
  },
  {
   "cell_type": "markdown",
   "metadata": {},
   "source": [
    "### 02) WAP to merge two dictionaries given by user."
   ]
  },
  {
   "cell_type": "code",
   "execution_count": 1,
   "metadata": {},
   "outputs": [
    {
     "name": "stdout",
     "output_type": "stream",
     "text": [
      "Dict A : {'a': 1, 'b': 2, 'c': 3}\n",
      "Dict B : {'p': 4, 'q': 5, 'r': 6}\n",
      "Merge using .update() :       {'a': 1, 'b': 2, 'c': 3, 'p': 4, 'q': 5, 'r': 6}\n",
      "Merge using **dict1,**dict2 : {'a': 1, 'b': 2, 'c': 3, 'p': 4, 'q': 5, 'r': 6}\n",
      "Merge using '|' :             {'a': 1, 'b': 2, 'c': 3, 'p': 4, 'q': 5, 'r': 6}\n"
     ]
    }
   ],
   "source": [
    "# dictA={'a':1,'b':2,'c':3}\n",
    "# dictB={'p':4,'q':5,'r':6}\n",
    "dictA = {int(input())}\n",
    "print(f\"Dict A : {dictA}\")\n",
    "print(f\"Dict B : {dictB}\")\n",
    "\n",
    "# Way - 1\n",
    "dictX={}\n",
    "#this returns none\n",
    "dictX.update(dictA)\n",
    "dictX.update(dictB)\n",
    "#This returns merged\n",
    "print(f\"Merge using .update() :       {dictX}\")\n",
    "\n",
    "# Way - 2\n",
    "dictC={**dictA,**dictB}\n",
    "print(f\"Merge using **dict1,**dict2 : {dictC}\")\n",
    "\n",
    "# Way - 3\n",
    "dictD = dictA | dictB\n",
    "print(f\"Merge using '|' :             {dictD}\")"
   ]
  },
  {
   "cell_type": "markdown",
   "metadata": {},
   "source": [
    "### 03) WAP to find tuples that have all elements divisible by K from a list of tuples."
   ]
  },
  {
   "cell_type": "code",
   "execution_count": 2,
   "metadata": {},
   "outputs": [
    {
     "name": "stdout",
     "output_type": "stream",
     "text": [
      "Original List : [(2, 4, 6), (6, 12, 18), (3, 4, 5), (5, 10, 15)]\n",
      "[(2, 4, 6), (6, 12, 18)]\n"
     ]
    }
   ],
   "source": [
    "list_of_tuple=[(2,4,6),(6,12,18),(3,4,5),(5,10,15)]\n",
    "print(f\"Original List : {list_of_tuple}\")\n",
    "k=2\n",
    "result=[tuple for tuple in list_of_tuple if all(element % k == 0 for element in tuple)]\n",
    "print(f\"{result}\")"
   ]
  },
  {
   "cell_type": "markdown",
   "metadata": {},
   "source": [
    "### 04) WAP to find Tuples with positive elements in List of tuples."
   ]
  },
  {
   "cell_type": "code",
   "execution_count": 4,
   "metadata": {},
   "outputs": [
    {
     "name": "stdout",
     "output_type": "stream",
     "text": [
      "Original List : [(2, 4, 6), (6, 12, 18), (3, 4, 5), (5, 10, 15)]\n",
      "Positive Tuples : [(2, 4, 6), (6, 12, 18), (3, 4, 5), (5, 10, 15)]\n"
     ]
    }
   ],
   "source": [
    "list_of_toup=[(-2,4,6),(6,12,18),(-3,-4,-5),(5,0,15)]\n",
    "print(f\"Original List : {list_of_tuple}\")\n",
    "result=[tuple for tuple in list_of_tuple if all(element>0 for element in tuple)]\n",
    "print(f\"Positive Tuples : {result}\")"
   ]
  },
  {
   "cell_type": "markdown",
   "metadata": {},
   "source": [
    "### 05) WAP which perform union of two sets."
   ]
  },
  {
   "cell_type": "code",
   "execution_count": 31,
   "metadata": {},
   "outputs": [
    {
     "name": "stdout",
     "output_type": "stream",
     "text": [
      "Set 1 : {'c', 'a', 'b'}\n",
      "Set 2 : {'r', 'p', 'q'}\n",
      "Union : {'c', 'a', 'p', 'r', 'b', 'q'}\n"
     ]
    }
   ],
   "source": [
    "set1 = {\"a\",\"b\",\"c\"}\n",
    "set2 = {\"p\",\"q\",\"r\"}\n",
    "set3 = set1 | set2\n",
    "print(f\"Set 1 : {set1}\")\n",
    "print(f\"Set 2 : {set2}\")\n",
    "print(f\"Union : {set3}\")"
   ]
  },
  {
   "cell_type": "markdown",
   "metadata": {},
   "source": [
    "# B"
   ]
  },
  {
   "cell_type": "markdown",
   "metadata": {},
   "source": [
    "### 01) WAP to convert binary tuple into integer."
   ]
  },
  {
   "cell_type": "code",
   "execution_count": 40,
   "metadata": {},
   "outputs": [
    {
     "name": "stdout",
     "output_type": "stream",
     "text": [
      "85\n",
      "85\n"
     ]
    }
   ],
   "source": [
    "binary_tuple=(1,0,1,0,1,0,1)\n",
    "\n",
    "#Way-1\n",
    "binstr=''\n",
    "for e in binary_tuple:\n",
    "    # Way-1\n",
    "    binstr = binstr + str(e)\n",
    "resultInt =int(binstr,2)\n",
    "print(resultInt)\n",
    "\n",
    "# Way-2\n",
    "binInt=0\n",
    "for e in binary_tuple:\n",
    "    binInt = ( binInt << 1 )| e\n",
    "print(binInt)"
   ]
  },
  {
   "cell_type": "markdown",
   "metadata": {},
   "source": [
    "### 02) WAP to count frequency in list by dictionary."
   ]
  },
  {
   "cell_type": "code",
   "execution_count": 44,
   "metadata": {},
   "outputs": [
    {
     "name": "stdout",
     "output_type": "stream",
     "text": [
      "a : 4\n",
      "b : 5\n",
      "e : 3\n",
      "c : 6\n",
      "d : 6\n"
     ]
    }
   ],
   "source": [
    "list=['a','a','a','a','b','b','b','b','e','c','c','e','d','d','d','d','d','d','c','c','c','e','b','c']\n",
    "freq={}\n",
    "for element in list:\n",
    "    if (element in freq):\n",
    "        freq[element] += 1\n",
    "    else:\n",
    "        freq[element] = 1\n",
    "for k,v in  freq.items():\n",
    "    print(f\"{k} : {v}\")"
   ]
  },
  {
   "cell_type": "markdown",
   "metadata": {},
   "source": [
    "### 03) WAP to remove all the duplicate words from the list using dictionary."
   ]
  },
  {
   "cell_type": "code",
   "execution_count": 53,
   "metadata": {},
   "outputs": [
    {
     "name": "stdout",
     "output_type": "stream",
     "text": [
      "['cat', 'dog', 'tiger', 'elephant', 'lion']\n"
     ]
    }
   ],
   "source": [
    "animals=['cat','dog','cat','tiger','dog','elephant','lion','lion']\n",
    "dictA={}\n",
    "for i in animals:\n",
    "    if(i in dictA):\n",
    "        dictA[i]+=1\n",
    "    else:\n",
    "        dictA[i]=1\n",
    "nonDuplicates=[]\n",
    "for i in dictA.items():\n",
    "    nonDuplicates.append(i[0])\n",
    "print(nonDuplicates)"
   ]
  }
 ],
 "metadata": {
  "kernelspec": {
   "display_name": "Python 3",
   "language": "python",
   "name": "python3"
  },
  "language_info": {
   "codemirror_mode": {
    "name": "ipython",
    "version": 3
   },
   "file_extension": ".py",
   "mimetype": "text/x-python",
   "name": "python",
   "nbconvert_exporter": "python",
   "pygments_lexer": "ipython3",
   "version": "3.10.8"
  },
  "vscode": {
   "interpreter": {
    "hash": "0d5eec78a37ea6fc2b3284bacdb9ef8ae50d1b9f72a0fc78f32f14c7c428fbcf"
   }
  }
 },
 "nbformat": 4,
 "nbformat_minor": 4
}
