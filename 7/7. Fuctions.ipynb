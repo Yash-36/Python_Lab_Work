{
 "cells": [
  {
   "cell_type": "markdown",
   "metadata": {},
   "source": [
    "<a href='https://www.darshan.ac.in/'> <img src='https://www.darshan.ac.in/Content/media/DU_Logo.svg' width=\"250\" height=\"300\"/></a>\n",
    "<pre>\n",
    "<center><b><h1>Python Programming - 2101CS405</b></center>\n",
    "<center><b><h1>Lab - 7</b></center>    \n",
    "<pre>"
   ]
  },
  {
   "cell_type": "markdown",
   "metadata": {},
   "source": [
    "# Functions"
   ]
  },
  {
   "cell_type": "markdown",
   "metadata": {},
   "source": [
    "### 01) WAP to count simple interest using function."
   ]
  },
  {
   "cell_type": "code",
   "execution_count": 1,
   "metadata": {},
   "outputs": [
    {
     "name": "stdout",
     "output_type": "stream",
     "text": [
      "150.0\n"
     ]
    }
   ],
   "source": [
    "def simpleInterest(p,r,n):\n",
    "    print(f\"{(p*r*n)/100}\")\n",
    "principle = int(input(\"Enter Principle Amount : \"))\n",
    "rate = int(input(\"Enter Rate of Interest : \"))\n",
    "number = int(input(\"Enter number of years : \"))\n",
    "simpleInterest(principle,rate,number)"
   ]
  },
  {
   "cell_type": "markdown",
   "metadata": {},
   "source": [
    "### 02) WAP that defines a function to add first n numbers."
   ]
  },
  {
   "cell_type": "code",
   "execution_count": null,
   "metadata": {},
   "outputs": [
    {
     "name": "stdout",
     "output_type": "stream",
     "text": [
      "Sum of :  21\n"
     ]
    }
   ],
   "source": [
    "def sumofn(num):\n",
    "    for i in range(0,num):\n",
    "        num = num + i\n",
    "    print(\"Sum of : \",num)\n",
    "num = int(input(\"Enter any number : \"))\n",
    "sumofn(num)"
   ]
  },
  {
   "cell_type": "markdown",
   "metadata": {},
   "source": [
    "### 03) WAP to find maximum number from given two numbers using function."
   ]
  },
  {
   "cell_type": "code",
   "execution_count": null,
   "metadata": {},
   "outputs": [
    {
     "name": "stdout",
     "output_type": "stream",
     "text": [
      "8\n"
     ]
    }
   ],
   "source": [
    "_max = lambda a, b : a if a > b else b\n",
    "print(_max(5, 8))"
   ]
  },
  {
   "cell_type": "markdown",
   "metadata": {},
   "source": [
    "### 04) WAP that defines a function which returns 1 if the number is prime otherwise return 0."
   ]
  },
  {
   "cell_type": "code",
   "execution_count": null,
   "metadata": {},
   "outputs": [
    {
     "name": "stdout",
     "output_type": "stream",
     "text": [
      "1\n"
     ]
    }
   ],
   "source": [
    "def primeno(num):\n",
    "    flag = True\n",
    "    for i in range(2,num):\n",
    "        if(num%i==0):\n",
    "            flag = False\n",
    "            break\n",
    "    if(flag == True):\n",
    "        return 1\n",
    "    else:\n",
    "        return 0\n",
    "num = int(input(\"Enter a number : \"))\n",
    "print(primeno(num))"
   ]
  },
  {
   "cell_type": "markdown",
   "metadata": {},
   "source": [
    "### 05) Write a function called primes that takes an integer value as an argument and returns a list of all prime numbers up to that number."
   ]
  },
  {
   "cell_type": "code",
   "execution_count": null,
   "metadata": {},
   "outputs": [
    {
     "name": "stdout",
     "output_type": "stream",
     "text": [
      "[2, 3, 5, 7, 11, 13, 17, 19, 23, 29, 31, 37, 41, 43, 47, 53, 59, 61, 67, 71, 73, 79, 83, 89, 97, 101, 103, 107, 109, 113, 127, 131, 137, 139, 149, 151, 157, 163, 167, 173, 179, 181, 191, 193, 197, 199, 211, 223, 227, 229, 233, 239, 241, 251, 257, 263, 269, 271, 277, 281, 283, 293, 307, 311, 313, 317, 331, 337, 347, 349, 353, 359, 367, 373, 379, 383, 389, 397, 401, 409, 419, 421, 431, 433, 439, 443, 449, 457, 461, 463, 467, 479, 487, 491, 499, 503, 509, 521, 523, 541, 547, 557, 563, 569, 571, 577, 587, 593, 599, 601, 607, 613, 617, 619, 631, 641, 643, 647, 653, 659, 661, 673, 677, 683, 691, 701, 709, 719, 727, 733, 739, 743, 751, 757, 761, 769, 773, 787, 797, 809, 811, 821, 823, 827, 829, 839, 853, 857, 859, 863, 877, 881, 883, 887, 907, 911, 919, 929, 937, 941, 947, 953, 967, 971, 977, 983, 991, 997]\n"
     ]
    }
   ],
   "source": [
    "# one liner\n",
    "# print([i for i in range(2, n) if 0 not in [i%n for n in range(2, i)]])\n",
    "def primeNo(n):\n",
    "       if n <=1:\n",
    "         return False\n",
    "       else:\n",
    "          for i in range(2, n):\n",
    "              if n % i == 0:\n",
    "                  return False\n",
    "       return True\n",
    "n = int(input(\"Enter a number\"))\n",
    "x = filter(primeNo, range(n))\n",
    "print(list(x))"
   ]
  },
  {
   "cell_type": "markdown",
   "metadata": {},
   "source": [
    "### 06) WAP to generate Fibonacci series of N given number using function name fibbo. (e.g. 0 1 1 2 3 5 8...)"
   ]
  },
  {
   "cell_type": "code",
   "execution_count": null,
   "metadata": {},
   "outputs": [
    {
     "name": "stdout",
     "output_type": "stream",
     "text": [
      "[0, 1, 1, 2, 3, 5, 8, 13, 21, 34]\n"
     ]
    }
   ],
   "source": [
    "n = int(input(\"Enter a number : \"))\n",
    "fibbo = lambda x : x if x<=1 else fibbo(x-1) + fibbo(x-2)\n",
    "_list = list(map(fibbo,range(0,n,1)))\n",
    "print(_list)"
   ]
  },
  {
   "cell_type": "markdown",
   "metadata": {},
   "source": [
    "### 07) WAP to find the factorial of a given number using recursion."
   ]
  },
  {
   "cell_type": "code",
   "execution_count": null,
   "metadata": {},
   "outputs": [],
   "source": [
    "def fact(n):\n",
    "    return n if x <= 1 else n*fact(n-1)\n",
    "n = int(input(\"Enter a number : \"))"
   ]
  },
  {
   "cell_type": "markdown",
   "metadata": {},
   "source": [
    "### 08) WAP to implement simple calculator using lamda function."
   ]
  },
  {
   "cell_type": "code",
   "execution_count": 37,
   "metadata": {},
   "outputs": [
    {
     "name": "stdout",
     "output_type": "stream",
     "text": [
      "24\n"
     ]
    }
   ],
   "source": [
    "choice = int(input(\"Enter operation 1-Add , 2-Sub , 3- Mult , 4-Div : \"))\n",
    "a = int(input(\"Enter the first number : \"))\n",
    "b = int(input(\"Enter the second number : \"))\n",
    "answer = lambda a,b : a+b if choice == 1 else a-b if choice == 2 else a*b if choice == 3 else a/b\n",
    "print(answer(a,b))"
   ]
  },
  {
   "cell_type": "markdown",
   "metadata": {},
   "source": [
    "### 09)Write a Python program that accepts a hyphen-separated sequence of words as input and prints the words in a hyphen-separated sequence after sorting them alphabetically\n",
    "Sample Items : green-red-yellow-black-white <br>\n",
    "Expected Result : black-green-red-white-yellow"
   ]
  },
  {
   "cell_type": "code",
   "execution_count": 12,
   "metadata": {},
   "outputs": [
    {
     "name": "stdout",
     "output_type": "stream",
     "text": [
      "black-green-red-white-yellow\n"
     ]
    }
   ],
   "source": [
    "_str = input(\"Enter Sequence : \")\n",
    "_list = _str.split('-')\n",
    "answer = sorted(_list)\n",
    "print(\"-\".join(answer))"
   ]
  },
  {
   "cell_type": "markdown",
   "metadata": {},
   "source": [
    "### 10) Write a python program to implement all function arguments type\n",
    "Positional arguments <Br>\n",
    "Default argument <Br>\n",
    "Keyword arguments (named arguments) <Br>\n",
    "Arbitrary arguments (variable-length arguments args and kwargs)"
   ]
  },
  {
   "cell_type": "code",
   "execution_count": 33,
   "metadata": {},
   "outputs": [
    {
     "name": "stdout",
     "output_type": "stream",
     "text": [
      "Sum: 5\n",
      "Sum: 16\n",
      "Sum : 2\n",
      "Sum :  15\n",
      "Sum :  14\n",
      "('a', 2)\n",
      "('b', 3)\n",
      "('c', 4)\n",
      "('d', 5)\n",
      "{'a': 2, 'b': 3, 'c': 4, 'd': 5}\n"
     ]
    }
   ],
   "source": [
    "#Positional\n",
    "def addTwo(a, b):\n",
    "    sum = a + b\n",
    "    print('Sum:', sum)\n",
    "addTwo(2, 3)\n",
    "\n",
    "# #Default\n",
    "def addTwo( a1 = 7,  b1 = 8):\n",
    "    sum = a1 + b1\n",
    "    print('Sum:', sum)\n",
    "addTwo(8)\n",
    "\n",
    "# #Named/Keyword \n",
    "def addTwo(a,b):\n",
    "    print(\"Sum :\",a-b)\n",
    "addTwo(b=6,a=8)\n",
    "\n",
    "#Arbitrary Argument\n",
    "def addTwo(n1,*n):\n",
    "    sum = n1\n",
    "    for i in n:\n",
    "        sum = sum + i\n",
    "    print(\"Sum : \",sum)\n",
    "addTwo(2,3,4,6)\n",
    "\n",
    "#Arbitrary Keyword\n",
    "def addTwo(**a):\n",
    "    sum = 0\n",
    "    sum = a['a'] + a['b'] + a['c'] + a['d']\n",
    "    print(\"Sum : \",sum)\n",
    "    for i in a.items():\n",
    "        print(i)\n",
    "    print(a)\n",
    "addTwo(a = 2,b = 3,c = 4,d = 5)\n",
    "    "
   ]
  },
  {
   "cell_type": "markdown",
   "metadata": {},
   "source": [
    "### 01) WAP to calculate power of a number using recursion."
   ]
  },
  {
   "cell_type": "code",
   "execution_count": 38,
   "metadata": {},
   "outputs": [
    {
     "name": "stdout",
     "output_type": "stream",
     "text": [
      "Result is: 8.0\n"
     ]
    }
   ],
   "source": [
    "def power(b,e):\n",
    "    if e==0:\n",
    "        return 1\n",
    "    else:\n",
    "        return b * power(b, e-1)\n",
    "b = float(input(\"Enter Base : \"))\n",
    "e = int(input(\"Enter Exponent : \"))\n",
    "answer = power(b, e)\n",
    "print(\"Result is:\", answer)"
   ]
  },
  {
   "cell_type": "markdown",
   "metadata": {},
   "source": [
    "### 02) WAP to count digits of a number using recursion."
   ]
  },
  {
   "cell_type": "code",
   "execution_count": 41,
   "metadata": {},
   "outputs": [
    {
     "name": "stdout",
     "output_type": "stream",
     "text": [
      "3\n"
     ]
    }
   ],
   "source": [
    "def countDigit(n):\n",
    "    if n//10 == 0:\n",
    "        return 1\n",
    "    return 1 + countDigit(n // 10)\n",
    "\n",
    "n = int(input(\"Enter a number\"))\n",
    "print(countDigit(n))\n"
   ]
  },
  {
   "cell_type": "markdown",
   "metadata": {},
   "source": [
    "### 03) WAP to reverse an integer number using recursion."
   ]
  },
  {
   "cell_type": "code",
   "execution_count": 42,
   "metadata": {},
   "outputs": [
    {
     "name": "stdout",
     "output_type": "stream",
     "text": [
      "321\n"
     ]
    }
   ],
   "source": [
    "def reverseNo(n):\n",
    "    rev=0\n",
    "    while n>0:\n",
    "        rem=n%10\n",
    "        rev=(rev*10)+rem\n",
    "        n=n//10\n",
    "    return rev\n",
    "\n",
    "n = int(input(\"Enter a number : \"))\n",
    "print(reverseNo(n))"
   ]
  },
  {
   "cell_type": "markdown",
   "metadata": {},
   "source": [
    "### 04) WAP to convert decimal number into binary using recursion."
   ]
  },
  {
   "cell_type": "code",
   "execution_count": 49,
   "metadata": {},
   "outputs": [
    {
     "name": "stdout",
     "output_type": "stream",
     "text": [
      "101010\n"
     ]
    }
   ],
   "source": [
    "def binary(num):\n",
    "    if num == 0:\n",
    "        return 0\n",
    "    else:\n",
    "        return (num % 2 + 10 * binary(num // 2))\n",
    "num = int(input(\"Enter n : \"))\n",
    "print(binary(num))\n"
   ]
  }
 ],
 "metadata": {
  "kernelspec": {
   "display_name": "Python 3",
   "language": "python",
   "name": "python3"
  },
  "language_info": {
   "codemirror_mode": {
    "name": "ipython",
    "version": 3
   },
   "file_extension": ".py",
   "mimetype": "text/x-python",
   "name": "python",
   "nbconvert_exporter": "python",
   "pygments_lexer": "ipython3",
   "version": "3.10.8"
  },
  "vscode": {
   "interpreter": {
    "hash": "0d5eec78a37ea6fc2b3284bacdb9ef8ae50d1b9f72a0fc78f32f14c7c428fbcf"
   }
  }
 },
 "nbformat": 4,
 "nbformat_minor": 4
}
