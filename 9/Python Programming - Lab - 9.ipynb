{
 "cells": [
  {
   "cell_type": "markdown",
   "metadata": {},
   "source": [
    "<a href='https://www.darshan.ac.in/'> <img src='https://www.darshan.ac.in/Content/media/DU_Logo.svg' width=\"250\" height=\"300\"/></a>\n",
    "<pre>\n",
    "<center><b><h1>Python Programming - 2101CS405</b></center>\n",
    "<center><b><h1>Lab - 9</b></center>    \n",
    "<pre>"
   ]
  },
  {
   "cell_type": "markdown",
   "metadata": {},
   "source": [
    "# Exception Handling"
   ]
  },
  {
   "cell_type": "markdown",
   "metadata": {},
   "source": [
    "# A"
   ]
  },
  {
   "cell_type": "markdown",
   "metadata": {},
   "source": [
    "### 01) WAP to handle divide by zero exception."
   ]
  },
  {
   "cell_type": "code",
   "execution_count": 2,
   "metadata": {},
   "outputs": [
    {
     "name": "stdout",
     "output_type": "stream",
     "text": [
      "Divide by zero\n"
     ]
    }
   ],
   "source": [
    "try:\n",
    "    x=int(input(\"Enter number : \"))\n",
    "    print(x/0)\n",
    "except (ValueError,ZeroDivisionError):\n",
    "    print(\"Divide by zero\")"
   ]
  },
  {
   "cell_type": "markdown",
   "metadata": {},
   "source": [
    "### 02)  Write a Python program that inputs a number and generates an error message if it is not a number."
   ]
  },
  {
   "cell_type": "code",
   "execution_count": 4,
   "metadata": {},
   "outputs": [
    {
     "name": "stdout",
     "output_type": "stream",
     "text": [
      "Enter a valid Number\n",
      "Exception done\n"
     ]
    }
   ],
   "source": [
    "try:\n",
    "    x=int(input(\"Enter number : \"))\n",
    "except ValueError :\n",
    "    print (\"Enter a valid Number\")\n",
    "finally :\n",
    "    print(\"Exception done\")\n",
    "    "
   ]
  },
  {
   "cell_type": "markdown",
   "metadata": {},
   "source": [
    "### 03) WAP to handle file not found Exception"
   ]
  },
  {
   "cell_type": "code",
   "execution_count": 8,
   "metadata": {},
   "outputs": [
    {
     "name": "stdout",
     "output_type": "stream",
     "text": [
      "File not Found\n"
     ]
    }
   ],
   "source": [
    "try:\n",
    "    f=open(\"Yash.txt\",\"r\")\n",
    "except FileNotFoundError:\n",
    "    print(\"File not Found\")"
   ]
  },
  {
   "cell_type": "markdown",
   "metadata": {},
   "source": [
    "### 04) WAP to handle type Exception."
   ]
  },
  {
   "cell_type": "code",
   "execution_count": 3,
   "metadata": {},
   "outputs": [
    {
     "name": "stdout",
     "output_type": "stream",
     "text": [
      "Enter a valid Number\n",
      "Exception done\n"
     ]
    }
   ],
   "source": [
    "try:\n",
    "    x=int(input(\"Enter number : \"))\n",
    "    res = x + \"a\"\n",
    "except TypeError :\n",
    "    print (\"Enter a valid Number\")\n",
    "finally :\n",
    "    print(\"Exception done\")\n",
    "    "
   ]
  },
  {
   "cell_type": "markdown",
   "metadata": {},
   "source": [
    "### 05) WAP to demonstrate valueError and indexError with example."
   ]
  },
  {
   "cell_type": "code",
   "execution_count": 6,
   "metadata": {},
   "outputs": [
    {
     "name": "stdout",
     "output_type": "stream",
     "text": [
      "Index out of Bound Error\n"
     ]
    }
   ],
   "source": [
    "try:\n",
    "    list = [1,2,3,4,5]\n",
    "    ind = int(input(\"Enter index : \"))\n",
    "    print(list[ind])\n",
    "except ValueError as e:\n",
    "    print(\"Value Error\")\n",
    "except IndexError as e:\n",
    "    print(\"Index out of Bound Error\")"
   ]
  },
  {
   "cell_type": "markdown",
   "metadata": {},
   "source": [
    "### 06) WAP to domonstrate else  and finally block."
   ]
  },
  {
   "cell_type": "code",
   "execution_count": 12,
   "metadata": {},
   "outputs": [
    {
     "name": "stdout",
     "output_type": "stream",
     "text": [
      "The division is successful. 1.0\n",
      "This block will always execute whether an exception occurred or not.\n"
     ]
    }
   ],
   "source": [
    "try :\n",
    "   x = int(input(\"Enter Number 1 : \"))\n",
    "   y = int(input(\"Enter Number 2 : \"))\n",
    "   res = x/y \n",
    "except ZeroDivisionError :\n",
    "    print(\"Cannot divide by zero\")\n",
    "else :\n",
    "    print(\"The division is successful.\",result)\n",
    "finally :\n",
    "    print(\"This block will always execute whether an exception occurred or not.\")"
   ]
  },
  {
   "cell_type": "markdown",
   "metadata": {},
   "source": [
    "### 07) Create a short program that prompts the user for a list of grades separated by commas. Split the string into individual grades and use a list comprehension to convert each string to an integer. You should use a try statement to inform the user when the values they entered cannot be converted."
   ]
  },
  {
   "cell_type": "code",
   "execution_count": 3,
   "metadata": {},
   "outputs": [
    {
     "name": "stdout",
     "output_type": "stream",
     "text": [
      "invalid literal for int() with base 10: '1 2 3 4 5 '\n"
     ]
    }
   ],
   "source": [
    "str = input(\"enter a string saperated by comma : \")\n",
    "list = str.split(\",\")\n",
    "try:\n",
    "    for i in range(0,len(list)):\n",
    "        list[i] = int(list[i])\n",
    "except ValueError as e:\n",
    "    print(e)\n",
    "else:\n",
    "    print(list)"
   ]
  },
  {
   "cell_type": "markdown",
   "metadata": {},
   "source": []
  },
  {
   "cell_type": "markdown",
   "metadata": {},
   "source": [
    "# B"
   ]
  },
  {
   "cell_type": "markdown",
   "metadata": {},
   "source": [
    "### 01) WAP to Raising User Generated Exception."
   ]
  },
  {
   "cell_type": "code",
   "execution_count": 4,
   "metadata": {},
   "outputs": [
    {
     "name": "stdout",
     "output_type": "stream",
     "text": [
      "The number should be positive\n"
     ]
    }
   ],
   "source": [
    "class NegativeNumberException(Exception) :\n",
    "    def __init__(self,arg):\n",
    "        self.arg = arg\n",
    "try:\n",
    "    num = int(input(\"Enter a Number : \"))\n",
    "    if(num<0) :\n",
    "        raise NegativeNumberException(\"The number should be positive\")\n",
    "    else :\n",
    "        print(num)\n",
    "except NegativeNumberException as e:\n",
    "    print (e.arg)"
   ]
  },
  {
   "cell_type": "markdown",
   "metadata": {},
   "source": [
    "### 02) WAP to raise your custom Exception."
   ]
  },
  {
   "cell_type": "code",
   "execution_count": 11,
   "metadata": {},
   "outputs": [
    {
     "name": "stdout",
     "output_type": "stream",
     "text": [
      "Even Number\n"
     ]
    }
   ],
   "source": [
    "class OddNumberException(Exception):\n",
    "    \"Raised when number is Odd Number\"\n",
    "    def __init__(self, arg=\"Custom Exception\"):\n",
    "        self.arg=arg\n",
    "try:\n",
    "    a=int(input(\"Enter a number : \"))\n",
    "    if a%2==0:\n",
    "        print(\"Even Number\")\n",
    "    else:\n",
    "        raise OddNumberException()\n",
    "except OddNumberException as oe:\n",
    "    print(oe.arg)\n"
   ]
  }
 ],
 "metadata": {
  "kernelspec": {
   "display_name": "Python 3 (ipykernel)",
   "language": "python",
   "name": "python3"
  },
  "language_info": {
   "codemirror_mode": {
    "name": "ipython",
    "version": 3
   },
   "file_extension": ".py",
   "mimetype": "text/x-python",
   "name": "python",
   "nbconvert_exporter": "python",
   "pygments_lexer": "ipython3",
   "version": "3.10.8"
  }
 },
 "nbformat": 4,
 "nbformat_minor": 4
}
